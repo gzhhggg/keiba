{
 "cells": [
  {
   "attachments": {},
   "cell_type": "markdown",
   "metadata": {},
   "source": [
    "# 概要\n",
    "モデルを作成する"
   ]
  },
  {
   "cell_type": "code",
   "execution_count": 1,
   "metadata": {},
   "outputs": [],
   "source": [
    "import pandas as pd\n",
    "import numpy as np\n",
    "import datetime\n",
    "from tqdm.notebook import tqdm\n",
    "from sklearn.metrics import roc_auc_score\n",
    "from sklearn.preprocessing import LabelEncoder\n",
    "import lightgbm as lgb\n",
    "import requests\n",
    "from bs4 import BeautifulSoup\n",
    "import time\n",
    "import re\n",
    "from urllib.request import urlopen\n",
    "from itertools import combinations, permutations\n",
    "import matplotlib.pyplot as plt\n",
    "import pickle\n",
    "import optuna.integration.lightgbm as lgb_o"
   ]
  },
  {
   "cell_type": "code",
   "execution_count": 2,
   "metadata": {},
   "outputs": [],
   "source": [
    "pd.set_option('display.max_columns', 50)"
   ]
  },
  {
   "cell_type": "code",
   "execution_count": 3,
   "metadata": {},
   "outputs": [],
   "source": [
    "import module.Preprocessing as preprocessing\n",
    "import module.Simulation as simulation"
   ]
  },
  {
   "cell_type": "markdown",
   "metadata": {},
   "source": [
    "レース結果データ、馬情報データ、払い戻し情報の読み込み"
   ]
  },
  {
   "cell_type": "code",
   "execution_count": 4,
   "metadata": {},
   "outputs": [],
   "source": [
    "race_resluts = pd.read_pickle(\"../data/original_data/race_results.pickle\")\n",
    "horse_results = pd.read_pickle(\"../data/original_data/horse_results.pickle\")\n",
    "return_table = pd.read_pickle(\"../data/original_data/return_tables.pickle\")"
   ]
  },
  {
   "attachments": {},
   "cell_type": "markdown",
   "metadata": {},
   "source": [
    "レース結果データ、馬情報データの前処理をする"
   ]
  },
  {
   "cell_type": "code",
   "execution_count": 25,
   "metadata": {},
   "outputs": [
    {
     "name": "stderr",
     "output_type": "stream",
     "text": [
      "c:\\keiba\\keiba\\new_directory\\module\\Preprocessing.py:47: SettingWithCopyWarning: \n",
      "A value is trying to be set on a copy of a slice from a DataFrame.\n",
      "Try using .loc[row_indexer,col_indexer] = value instead\n",
      "\n",
      "See the caveats in the documentation: https://pandas.pydata.org/pandas-docs/stable/user_guide/indexing.html#returning-a-view-versus-a-copy\n",
      "  df[\"着順\"] = pd.to_numeric(df[\"着順\"], errors=\"coerce\")\n",
      "c:\\keiba\\keiba\\new_directory\\module\\Preprocessing.py:48: SettingWithCopyWarning: \n",
      "A value is trying to be set on a copy of a slice from a DataFrame\n",
      "\n",
      "See the caveats in the documentation: https://pandas.pydata.org/pandas-docs/stable/user_guide/indexing.html#returning-a-view-versus-a-copy\n",
      "  df.dropna(subset=[\"着順\"], inplace=True)\n",
      "c:\\keiba\\keiba\\new_directory\\module\\Preprocessing.py:49: SettingWithCopyWarning: \n",
      "A value is trying to be set on a copy of a slice from a DataFrame.\n",
      "Try using .loc[row_indexer,col_indexer] = value instead\n",
      "\n",
      "See the caveats in the documentation: https://pandas.pydata.org/pandas-docs/stable/user_guide/indexing.html#returning-a-view-versus-a-copy\n",
      "  df[\"着順\"] = df[\"着順\"].astype(int)\n",
      "c:\\keiba\\keiba\\new_directory\\module\\Preprocessing.py:51: SettingWithCopyWarning: \n",
      "A value is trying to be set on a copy of a slice from a DataFrame\n",
      "\n",
      "See the caveats in the documentation: https://pandas.pydata.org/pandas-docs/stable/user_guide/indexing.html#returning-a-view-versus-a-copy\n",
      "  df[\"賞金\"].fillna(0, inplace=True)\n",
      "c:\\keiba\\keiba\\new_directory\\module\\Preprocessing.py:53: SettingWithCopyWarning: \n",
      "A value is trying to be set on a copy of a slice from a DataFrame.\n",
      "Try using .loc[row_indexer,col_indexer] = value instead\n",
      "\n",
      "See the caveats in the documentation: https://pandas.pydata.org/pandas-docs/stable/user_guide/indexing.html#returning-a-view-versus-a-copy\n",
      "  df[\"着順/頭数\"] = (1 - df[\"着順\"] / df[\"頭数\"]) * 100\n",
      "c:\\keiba\\keiba\\new_directory\\module\\Preprocessing.py:55: SettingWithCopyWarning: \n",
      "A value is trying to be set on a copy of a slice from a DataFrame.\n",
      "Try using .loc[row_indexer,col_indexer] = value instead\n",
      "\n",
      "See the caveats in the documentation: https://pandas.pydata.org/pandas-docs/stable/user_guide/indexing.html#returning-a-view-versus-a-copy\n",
      "  df[\"date\"] = pd.to_datetime(df[\"日付\"])\n",
      "c:\\keiba\\keiba\\new_directory\\module\\Preprocessing.py:56: SettingWithCopyWarning: \n",
      "A value is trying to be set on a copy of a slice from a DataFrame\n",
      "\n",
      "See the caveats in the documentation: https://pandas.pydata.org/pandas-docs/stable/user_guide/indexing.html#returning-a-view-versus-a-copy\n",
      "  df.drop([\"日付\"], axis=1, inplace=True)\n"
     ]
    }
   ],
   "source": [
    "p_race_results = preprocessing.race_preprocessing(race_resluts)\n",
    "p_horse_results = preprocessing.horse_preprocessing(horse_results)\n",
    "pd.to_pickle(p_race_results,\"data/preprocessing_data/p_race_results.pickle\")\n",
    "pd.to_pickle(p_horse_results,\"data/preprocessing_data/p_horse_results.pickle\")"
   ]
  },
  {
   "attachments": {},
   "cell_type": "markdown",
   "metadata": {},
   "source": [
    "レース結果データに馬の過去成績を追加する"
   ]
  },
  {
   "cell_type": "code",
   "execution_count": 6,
   "metadata": {},
   "outputs": [],
   "source": [
    "m_race_results = preprocessing.merge_race_with_horse(p_race_results, p_horse_results)\n",
    "pd.to_pickle(m_race_results,\"data/preprocessing_data/m_race_results.pickle\")"
   ]
  },
  {
   "attachments": {},
   "cell_type": "markdown",
   "metadata": {},
   "source": [
    "horse_idとjockey_idをラベルエンコーディングして、保存する（出馬表データの前処理で使用するので）"
   ]
  },
  {
   "cell_type": "code",
   "execution_count": 7,
   "metadata": {},
   "outputs": [],
   "source": [
    "le_horse = LabelEncoder().fit(m_race_results[\"horse_id\"])\n",
    "le_jockey = LabelEncoder().fit(m_race_results[\"jockey_id\"])\n",
    "# ラベルエンコーダーの保存\n",
    "pickle.dump(le_horse, open(\"labelencoder/le_horse.pickle\", 'wb'))\n",
    "pickle.dump(le_jockey, open(\"labelencoder/le_jockey.pickle\", 'wb'))"
   ]
  },
  {
   "attachments": {},
   "cell_type": "markdown",
   "metadata": {},
   "source": [
    "ダミー変数化する"
   ]
  },
  {
   "cell_type": "code",
   "execution_count": 8,
   "metadata": {},
   "outputs": [],
   "source": [
    "d_race_results = preprocessing.dummy_with_category(le_horse, le_jockey, m_race_results, m_race_results)"
   ]
  },
  {
   "attachments": {},
   "cell_type": "markdown",
   "metadata": {},
   "source": [
    "時系列に沿って訓練データとテストデータに分ける関数"
   ]
  },
  {
   "cell_type": "code",
   "execution_count": 9,
   "metadata": {},
   "outputs": [],
   "source": [
    "#時系列に沿って訓練データとテストデータに分ける関数\n",
    "def split_data(df, test_size=0.3):\n",
    "  sorted_id_list = df.sort_values(\"date\").index.unique()\n",
    "  train_id_list = sorted_id_list[: round(len(sorted_id_list) * (1 - test_size))]\n",
    "  test_id_list = sorted_id_list[round(len(sorted_id_list) * (1 - test_size)) :]\n",
    "  train = df.loc[train_id_list]\n",
    "  test = df.loc[test_id_list]\n",
    "  return train, test"
   ]
  },
  {
   "cell_type": "code",
   "execution_count": 10,
   "metadata": {},
   "outputs": [],
   "source": [
    "train, valid  = split_data(d_race_results)"
   ]
  },
  {
   "cell_type": "code",
   "execution_count": 11,
   "metadata": {},
   "outputs": [],
   "source": [
    "X_train = train.drop(['rank', 'date', \"着順\", \"単勝\"], axis=1)\n",
    "y_train = train['rank']\n",
    "X_valid = valid.drop(['rank', 'date', \"着順\", \"単勝\"], axis=1)\n",
    "y_valid = valid['rank']"
   ]
  },
  {
   "attachments": {},
   "cell_type": "markdown",
   "metadata": {},
   "source": [
    "パラメータチューニング（いい感じのパラメーターにしてくれる）"
   ]
  },
  {
   "cell_type": "code",
   "execution_count": 12,
   "metadata": {},
   "outputs": [
    {
     "name": "stderr",
     "output_type": "stream",
     "text": [
      "\u001b[32m[I 2023-02-06 01:40:16,546]\u001b[0m A new study created in memory with name: no-name-844fe396-066e-4bdd-bfe0-f5d7a6bb5c88\u001b[0m\n",
      "feature_fraction, val_score: inf:   0%|          | 0/7 [00:00<?, ?it/s]c:\\keiba\\keiba\\env\\lib\\site-packages\\lightgbm\\engine.py:181: UserWarning: 'early_stopping_rounds' argument is deprecated and will be removed in a future release of LightGBM. Pass 'early_stopping()' callback via 'callbacks' argument instead.\n",
      "  _log_warning(\"'early_stopping_rounds' argument is deprecated and will be removed in a future release of LightGBM. \"\n",
      "c:\\keiba\\keiba\\env\\lib\\site-packages\\lightgbm\\engine.py:239: UserWarning: 'verbose_eval' argument is deprecated and will be removed in a future release of LightGBM. Pass 'log_evaluation()' callback via 'callbacks' argument instead.\n",
      "  _log_warning(\"'verbose_eval' argument is deprecated and will be removed in a future release of LightGBM. \"\n"
     ]
    },
    {
     "name": "stdout",
     "output_type": "stream",
     "text": [
      "[LightGBM] [Info] Number of positive: 29545, number of negative: 105602\n",
      "[LightGBM] [Warning] Auto-choosing col-wise multi-threading, the overhead of testing was 0.007340 seconds.\n",
      "You can set `force_col_wise=true` to remove the overhead.\n",
      "[LightGBM] [Info] Total Bins 3546\n",
      "[LightGBM] [Info] Number of data points in the train set: 135147, number of used features: 40\n",
      "[LightGBM] [Info] [binary:BoostFromScore]: pavg=0.218614 -> initscore=-1.273763\n",
      "[LightGBM] [Info] Start training from score -1.273763\n",
      "Training until validation scores don't improve for 10 rounds\n"
     ]
    },
    {
     "name": "stderr",
     "output_type": "stream",
     "text": [
      "feature_fraction, val_score: 0.414732:  14%|#4        | 1/7 [00:00<00:03,  1.97it/s]\u001b[32m[I 2023-02-06 01:40:17,060]\u001b[0m Trial 0 finished with value: 0.414732461805572 and parameters: {'feature_fraction': 0.6}. Best is trial 0 with value: 0.414732461805572.\u001b[0m\n",
      "feature_fraction, val_score: 0.414732:  14%|#4        | 1/7 [00:00<00:03,  1.97it/s]"
     ]
    },
    {
     "name": "stdout",
     "output_type": "stream",
     "text": [
      "Early stopping, best iteration is:\n",
      "[63]\tvalid_0's binary_logloss: 0.408885\tvalid_1's binary_logloss: 0.414732\n",
      "[LightGBM] [Info] Number of positive: 29545, number of negative: 105602\n",
      "[LightGBM] [Warning] Auto-choosing col-wise multi-threading, the overhead of testing was 0.005852 seconds.\n",
      "You can set `force_col_wise=true` to remove the overhead.\n",
      "[LightGBM] [Info] Total Bins 3546\n",
      "[LightGBM] [Info] Number of data points in the train set: 135147, number of used features: 40\n",
      "[LightGBM] [Info] [binary:BoostFromScore]: pavg=0.218614 -> initscore=-1.273763\n",
      "[LightGBM] [Info] Start training from score -1.273763\n",
      "Training until validation scores don't improve for 10 rounds\n"
     ]
    },
    {
     "name": "stderr",
     "output_type": "stream",
     "text": [
      "feature_fraction, val_score: 0.414707:  29%|##8       | 2/7 [00:01<00:02,  1.88it/s]\u001b[32m[I 2023-02-06 01:40:17,610]\u001b[0m Trial 1 finished with value: 0.41470702418054733 and parameters: {'feature_fraction': 0.8999999999999999}. Best is trial 1 with value: 0.41470702418054733.\u001b[0m\n",
      "feature_fraction, val_score: 0.414707:  29%|##8       | 2/7 [00:01<00:02,  1.88it/s]"
     ]
    },
    {
     "name": "stdout",
     "output_type": "stream",
     "text": [
      "Early stopping, best iteration is:\n",
      "[54]\tvalid_0's binary_logloss: 0.409233\tvalid_1's binary_logloss: 0.414707\n",
      "[LightGBM] [Info] Number of positive: 29545, number of negative: 105602\n",
      "[LightGBM] [Warning] Auto-choosing col-wise multi-threading, the overhead of testing was 0.006236 seconds.\n",
      "You can set `force_col_wise=true` to remove the overhead.\n",
      "[LightGBM] [Info] Total Bins 3546\n",
      "[LightGBM] [Info] Number of data points in the train set: 135147, number of used features: 40\n",
      "[LightGBM] [Info] [binary:BoostFromScore]: pavg=0.218614 -> initscore=-1.273763\n",
      "[LightGBM] [Info] Start training from score -1.273763\n",
      "Training until validation scores don't improve for 10 rounds\n"
     ]
    },
    {
     "name": "stderr",
     "output_type": "stream",
     "text": [
      "feature_fraction, val_score: 0.414469:  43%|####2     | 3/7 [00:01<00:02,  1.96it/s]\u001b[32m[I 2023-02-06 01:40:18,095]\u001b[0m Trial 2 finished with value: 0.4144694539300323 and parameters: {'feature_fraction': 0.7}. Best is trial 2 with value: 0.4144694539300323.\u001b[0m\n",
      "feature_fraction, val_score: 0.414469:  43%|####2     | 3/7 [00:01<00:02,  1.96it/s]"
     ]
    },
    {
     "name": "stdout",
     "output_type": "stream",
     "text": [
      "Early stopping, best iteration is:\n",
      "[50]\tvalid_0's binary_logloss: 0.410492\tvalid_1's binary_logloss: 0.414469\n",
      "[LightGBM] [Info] Number of positive: 29545, number of negative: 105602\n",
      "[LightGBM] [Warning] Auto-choosing col-wise multi-threading, the overhead of testing was 0.006900 seconds.\n",
      "You can set `force_col_wise=true` to remove the overhead.\n",
      "[LightGBM] [Info] Total Bins 3546\n",
      "[LightGBM] [Info] Number of data points in the train set: 135147, number of used features: 40\n",
      "[LightGBM] [Info] [binary:BoostFromScore]: pavg=0.218614 -> initscore=-1.273763\n",
      "[LightGBM] [Info] Start training from score -1.273763\n",
      "Training until validation scores don't improve for 10 rounds\n"
     ]
    },
    {
     "name": "stderr",
     "output_type": "stream",
     "text": [
      "feature_fraction, val_score: 0.414469:  57%|#####7    | 4/7 [00:02<00:01,  1.83it/s]\u001b[32m[I 2023-02-06 01:40:18,699]\u001b[0m Trial 3 finished with value: 0.41495101187636546 and parameters: {'feature_fraction': 0.4}. Best is trial 2 with value: 0.4144694539300323.\u001b[0m\n",
      "feature_fraction, val_score: 0.414469:  57%|#####7    | 4/7 [00:02<00:01,  1.83it/s]"
     ]
    },
    {
     "name": "stdout",
     "output_type": "stream",
     "text": [
      "[100]\tvalid_0's binary_logloss: 0.404286\tvalid_1's binary_logloss: 0.414978\n",
      "Early stopping, best iteration is:\n",
      "[95]\tvalid_0's binary_logloss: 0.405115\tvalid_1's binary_logloss: 0.414951\n",
      "[LightGBM] [Info] Number of positive: 29545, number of negative: 105602\n",
      "[LightGBM] [Warning] Auto-choosing row-wise multi-threading, the overhead of testing was 0.000806 seconds.\n",
      "You can set `force_row_wise=true` to remove the overhead.\n",
      "And if memory is not enough, you can set `force_col_wise=true`.\n",
      "[LightGBM] [Info] Total Bins 3546\n",
      "[LightGBM] [Info] Number of data points in the train set: 135147, number of used features: 40\n",
      "[LightGBM] [Info] [binary:BoostFromScore]: pavg=0.218614 -> initscore=-1.273763\n",
      "[LightGBM] [Info] Start training from score -1.273763\n",
      "Training until validation scores don't improve for 10 rounds\n"
     ]
    },
    {
     "name": "stderr",
     "output_type": "stream",
     "text": [
      "feature_fraction, val_score: 0.414469:  71%|#######1  | 5/7 [00:02<00:01,  1.80it/s]\u001b[32m[I 2023-02-06 01:40:19,273]\u001b[0m Trial 4 finished with value: 0.41498182350701235 and parameters: {'feature_fraction': 0.5}. Best is trial 2 with value: 0.4144694539300323.\u001b[0m\n",
      "feature_fraction, val_score: 0.414469:  71%|#######1  | 5/7 [00:02<00:01,  1.80it/s]"
     ]
    },
    {
     "name": "stdout",
     "output_type": "stream",
     "text": [
      "Early stopping, best iteration is:\n",
      "[79]\tvalid_0's binary_logloss: 0.406642\tvalid_1's binary_logloss: 0.414982\n",
      "[LightGBM] [Info] Number of positive: 29545, number of negative: 105602\n",
      "[LightGBM] [Warning] Auto-choosing col-wise multi-threading, the overhead of testing was 0.006016 seconds.\n",
      "You can set `force_col_wise=true` to remove the overhead.\n",
      "[LightGBM] [Info] Total Bins 3546\n",
      "[LightGBM] [Info] Number of data points in the train set: 135147, number of used features: 40\n",
      "[LightGBM] [Info] [binary:BoostFromScore]: pavg=0.218614 -> initscore=-1.273763\n",
      "[LightGBM] [Info] Start training from score -1.273763\n",
      "Training until validation scores don't improve for 10 rounds\n"
     ]
    },
    {
     "name": "stderr",
     "output_type": "stream",
     "text": [
      "feature_fraction, val_score: 0.414469:  86%|########5 | 6/7 [00:03<00:00,  1.87it/s]\u001b[32m[I 2023-02-06 01:40:19,763]\u001b[0m Trial 5 finished with value: 0.41452459504545136 and parameters: {'feature_fraction': 1.0}. Best is trial 2 with value: 0.4144694539300323.\u001b[0m\n",
      "feature_fraction, val_score: 0.414469:  86%|########5 | 6/7 [00:03<00:00,  1.87it/s]"
     ]
    },
    {
     "name": "stdout",
     "output_type": "stream",
     "text": [
      "Early stopping, best iteration is:\n",
      "[52]\tvalid_0's binary_logloss: 0.409466\tvalid_1's binary_logloss: 0.414525\n",
      "[LightGBM] [Info] Number of positive: 29545, number of negative: 105602\n",
      "[LightGBM] [Warning] Auto-choosing col-wise multi-threading, the overhead of testing was 0.005930 seconds.\n",
      "You can set `force_col_wise=true` to remove the overhead.\n",
      "[LightGBM] [Info] Total Bins 3546\n",
      "[LightGBM] [Info] Number of data points in the train set: 135147, number of used features: 40\n",
      "[LightGBM] [Info] [binary:BoostFromScore]: pavg=0.218614 -> initscore=-1.273763\n",
      "[LightGBM] [Info] Start training from score -1.273763\n",
      "Training until validation scores don't improve for 10 rounds\n"
     ]
    },
    {
     "name": "stderr",
     "output_type": "stream",
     "text": [
      "feature_fraction, val_score: 0.414469: 100%|##########| 7/7 [00:03<00:00,  1.85it/s]\u001b[32m[I 2023-02-06 01:40:20,312]\u001b[0m Trial 6 finished with value: 0.4145788902910392 and parameters: {'feature_fraction': 0.8}. Best is trial 2 with value: 0.4144694539300323.\u001b[0m\n",
      "feature_fraction, val_score: 0.414469: 100%|##########| 7/7 [00:03<00:00,  1.86it/s]\n"
     ]
    },
    {
     "name": "stdout",
     "output_type": "stream",
     "text": [
      "Early stopping, best iteration is:\n",
      "[62]\tvalid_0's binary_logloss: 0.407935\tvalid_1's binary_logloss: 0.414579\n"
     ]
    },
    {
     "name": "stderr",
     "output_type": "stream",
     "text": [
      "num_leaves, val_score: 0.414469:   0%|          | 0/20 [00:00<?, ?it/s]"
     ]
    },
    {
     "name": "stdout",
     "output_type": "stream",
     "text": [
      "[LightGBM] [Info] Number of positive: 29545, number of negative: 105602\n",
      "[LightGBM] [Warning] Auto-choosing col-wise multi-threading, the overhead of testing was 0.006262 seconds.\n",
      "You can set `force_col_wise=true` to remove the overhead.\n",
      "[LightGBM] [Info] Total Bins 3546\n",
      "[LightGBM] [Info] Number of data points in the train set: 135147, number of used features: 40\n",
      "[LightGBM] [Info] [binary:BoostFromScore]: pavg=0.218614 -> initscore=-1.273763\n",
      "[LightGBM] [Info] Start training from score -1.273763\n",
      "Training until validation scores don't improve for 10 rounds\n"
     ]
    },
    {
     "name": "stderr",
     "output_type": "stream",
     "text": [
      "num_leaves, val_score: 0.414469:   5%|5         | 1/20 [00:00<00:11,  1.64it/s]\u001b[32m[I 2023-02-06 01:40:20,927]\u001b[0m Trial 7 finished with value: 0.4164921348305368 and parameters: {'num_leaves': 140}. Best is trial 7 with value: 0.4164921348305368.\u001b[0m\n",
      "num_leaves, val_score: 0.414469:   5%|5         | 1/20 [00:00<00:11,  1.64it/s]"
     ]
    },
    {
     "name": "stdout",
     "output_type": "stream",
     "text": [
      "Early stopping, best iteration is:\n",
      "[45]\tvalid_0's binary_logloss: 0.38515\tvalid_1's binary_logloss: 0.416492\n",
      "[LightGBM] [Info] Number of positive: 29545, number of negative: 105602\n",
      "[LightGBM] [Warning] Auto-choosing col-wise multi-threading, the overhead of testing was 0.007159 seconds.\n",
      "You can set `force_col_wise=true` to remove the overhead.\n",
      "[LightGBM] [Info] Total Bins 3546\n",
      "[LightGBM] [Info] Number of data points in the train set: 135147, number of used features: 40\n",
      "[LightGBM] [Info] [binary:BoostFromScore]: pavg=0.218614 -> initscore=-1.273763\n",
      "[LightGBM] [Info] Start training from score -1.273763\n",
      "Training until validation scores don't improve for 10 rounds\n"
     ]
    },
    {
     "name": "stderr",
     "output_type": "stream",
     "text": [
      "num_leaves, val_score: 0.414469:  10%|#         | 2/20 [00:01<00:10,  1.75it/s]\u001b[32m[I 2023-02-06 01:40:21,473]\u001b[0m Trial 8 finished with value: 0.41563219754763603 and parameters: {'num_leaves': 72}. Best is trial 8 with value: 0.41563219754763603.\u001b[0m\n",
      "num_leaves, val_score: 0.414469:  10%|#         | 2/20 [00:01<00:10,  1.75it/s]"
     ]
    },
    {
     "name": "stdout",
     "output_type": "stream",
     "text": [
      "Early stopping, best iteration is:\n",
      "[50]\tvalid_0's binary_logloss: 0.398835\tvalid_1's binary_logloss: 0.415632\n",
      "[LightGBM] [Info] Number of positive: 29545, number of negative: 105602\n",
      "[LightGBM] [Warning] Auto-choosing col-wise multi-threading, the overhead of testing was 0.007259 seconds.\n",
      "You can set `force_col_wise=true` to remove the overhead.\n",
      "[LightGBM] [Info] Total Bins 3546\n",
      "[LightGBM] [Info] Number of data points in the train set: 135147, number of used features: 40\n",
      "[LightGBM] [Info] [binary:BoostFromScore]: pavg=0.218614 -> initscore=-1.273763\n",
      "[LightGBM] [Info] Start training from score -1.273763\n",
      "Training until validation scores don't improve for 10 rounds\n"
     ]
    },
    {
     "name": "stderr",
     "output_type": "stream",
     "text": [
      "num_leaves, val_score: 0.414469:  15%|#5        | 3/20 [00:01<00:09,  1.72it/s]\u001b[32m[I 2023-02-06 01:40:22,063]\u001b[0m Trial 9 finished with value: 0.41621390482821663 and parameters: {'num_leaves': 110}. Best is trial 8 with value: 0.41563219754763603.\u001b[0m\n",
      "num_leaves, val_score: 0.414469:  15%|#5        | 3/20 [00:01<00:09,  1.72it/s]"
     ]
    },
    {
     "name": "stdout",
     "output_type": "stream",
     "text": [
      "Early stopping, best iteration is:\n",
      "[44]\tvalid_0's binary_logloss: 0.392609\tvalid_1's binary_logloss: 0.416214\n",
      "[LightGBM] [Info] Number of positive: 29545, number of negative: 105602\n",
      "[LightGBM] [Warning] Auto-choosing col-wise multi-threading, the overhead of testing was 0.006949 seconds.\n",
      "You can set `force_col_wise=true` to remove the overhead.\n",
      "[LightGBM] [Info] Total Bins 3546\n",
      "[LightGBM] [Info] Number of data points in the train set: 135147, number of used features: 40\n",
      "[LightGBM] [Info] [binary:BoostFromScore]: pavg=0.218614 -> initscore=-1.273763\n",
      "[LightGBM] [Info] Start training from score -1.273763\n",
      "Training until validation scores don't improve for 10 rounds\n"
     ]
    },
    {
     "name": "stderr",
     "output_type": "stream",
     "text": [
      "num_leaves, val_score: 0.414469:  20%|##        | 4/20 [00:02<00:10,  1.51it/s]\u001b[32m[I 2023-02-06 01:40:22,853]\u001b[0m Trial 10 finished with value: 0.41778839825457026 and parameters: {'num_leaves': 217}. Best is trial 8 with value: 0.41563219754763603.\u001b[0m\n",
      "num_leaves, val_score: 0.414469:  20%|##        | 4/20 [00:02<00:10,  1.51it/s]"
     ]
    },
    {
     "name": "stdout",
     "output_type": "stream",
     "text": [
      "Early stopping, best iteration is:\n",
      "[49]\tvalid_0's binary_logloss: 0.36533\tvalid_1's binary_logloss: 0.417788\n",
      "[LightGBM] [Info] Number of positive: 29545, number of negative: 105602\n",
      "[LightGBM] [Warning] Auto-choosing row-wise multi-threading, the overhead of testing was 0.001251 seconds.\n",
      "You can set `force_row_wise=true` to remove the overhead.\n",
      "And if memory is not enough, you can set `force_col_wise=true`.\n",
      "[LightGBM] [Info] Total Bins 3546\n",
      "[LightGBM] [Info] Number of data points in the train set: 135147, number of used features: 40\n",
      "[LightGBM] [Info] [binary:BoostFromScore]: pavg=0.218614 -> initscore=-1.273763\n",
      "[LightGBM] [Info] Start training from score -1.273763\n",
      "Training until validation scores don't improve for 10 rounds\n",
      "[100]\tvalid_0's binary_logloss: 0.418737\tvalid_1's binary_logloss: 0.415274\n",
      "[200]\tvalid_0's binary_logloss: 0.417418\tvalid_1's binary_logloss: 0.414611\n"
     ]
    },
    {
     "name": "stderr",
     "output_type": "stream",
     "text": [
      "num_leaves, val_score: 0.414469:  25%|##5       | 5/20 [00:03<00:09,  1.55it/s]\u001b[32m[I 2023-02-06 01:40:23,467]\u001b[0m Trial 11 finished with value: 0.4146059339128684 and parameters: {'num_leaves': 3}. Best is trial 11 with value: 0.4146059339128684.\u001b[0m\n",
      "num_leaves, val_score: 0.414469:  25%|##5       | 5/20 [00:03<00:09,  1.55it/s]"
     ]
    },
    {
     "name": "stdout",
     "output_type": "stream",
     "text": [
      "Early stopping, best iteration is:\n",
      "[205]\tvalid_0's binary_logloss: 0.417377\tvalid_1's binary_logloss: 0.414606\n",
      "[LightGBM] [Info] Number of positive: 29545, number of negative: 105602\n",
      "[LightGBM] [Warning] Auto-choosing row-wise multi-threading, the overhead of testing was 0.001223 seconds.\n",
      "You can set `force_row_wise=true` to remove the overhead.\n",
      "And if memory is not enough, you can set `force_col_wise=true`.\n",
      "[LightGBM] [Info] Total Bins 3546\n",
      "[LightGBM] [Info] Number of data points in the train set: 135147, number of used features: 40\n",
      "[LightGBM] [Info] [binary:BoostFromScore]: pavg=0.218614 -> initscore=-1.273763\n",
      "[LightGBM] [Info] Start training from score -1.273763\n",
      "Training until validation scores don't improve for 10 rounds\n"
     ]
    },
    {
     "name": "stderr",
     "output_type": "stream",
     "text": [
      "num_leaves, val_score: 0.414163:  30%|###       | 6/20 [00:03<00:08,  1.62it/s]\u001b[32m[I 2023-02-06 01:40:24,035]\u001b[0m Trial 12 finished with value: 0.4141631431542147 and parameters: {'num_leaves': 33}. Best is trial 12 with value: 0.4141631431542147.\u001b[0m\n",
      "num_leaves, val_score: 0.414163:  30%|###       | 6/20 [00:03<00:08,  1.62it/s]"
     ]
    },
    {
     "name": "stdout",
     "output_type": "stream",
     "text": [
      "Early stopping, best iteration is:\n",
      "[64]\tvalid_0's binary_logloss: 0.407112\tvalid_1's binary_logloss: 0.414163\n",
      "[LightGBM] [Info] Number of positive: 29545, number of negative: 105602\n",
      "[LightGBM] [Warning] Auto-choosing col-wise multi-threading, the overhead of testing was 0.006399 seconds.\n",
      "You can set `force_col_wise=true` to remove the overhead.\n",
      "[LightGBM] [Info] Total Bins 3546\n",
      "[LightGBM] [Info] Number of data points in the train set: 135147, number of used features: 40\n",
      "[LightGBM] [Info] [binary:BoostFromScore]: pavg=0.218614 -> initscore=-1.273763\n",
      "[LightGBM] [Info] Start training from score -1.273763\n",
      "Training until validation scores don't improve for 10 rounds\n"
     ]
    },
    {
     "name": "stderr",
     "output_type": "stream",
     "text": [
      "num_leaves, val_score: 0.414163:  35%|###5      | 7/20 [00:04<00:08,  1.56it/s]\u001b[32m[I 2023-02-06 01:40:24,717]\u001b[0m Trial 13 finished with value: 0.4170498700240521 and parameters: {'num_leaves': 173}. Best is trial 12 with value: 0.4141631431542147.\u001b[0m\n",
      "num_leaves, val_score: 0.414163:  35%|###5      | 7/20 [00:04<00:08,  1.56it/s]"
     ]
    },
    {
     "name": "stdout",
     "output_type": "stream",
     "text": [
      "Early stopping, best iteration is:\n",
      "[46]\tvalid_0's binary_logloss: 0.37723\tvalid_1's binary_logloss: 0.41705\n",
      "[LightGBM] [Info] Number of positive: 29545, number of negative: 105602\n",
      "[LightGBM] [Warning] Auto-choosing row-wise multi-threading, the overhead of testing was 0.001241 seconds.\n",
      "You can set `force_row_wise=true` to remove the overhead.\n",
      "And if memory is not enough, you can set `force_col_wise=true`.\n",
      "[LightGBM] [Info] Total Bins 3546\n",
      "[LightGBM] [Info] Number of data points in the train set: 135147, number of used features: 40\n",
      "[LightGBM] [Info] [binary:BoostFromScore]: pavg=0.218614 -> initscore=-1.273763\n",
      "[LightGBM] [Info] Start training from score -1.273763\n",
      "Training until validation scores don't improve for 10 rounds\n"
     ]
    },
    {
     "name": "stderr",
     "output_type": "stream",
     "text": [
      "num_leaves, val_score: 0.414163:  40%|####      | 8/20 [00:05<00:08,  1.43it/s]\u001b[32m[I 2023-02-06 01:40:25,546]\u001b[0m Trial 14 finished with value: 0.41752992589307414 and parameters: {'num_leaves': 212}. Best is trial 12 with value: 0.4141631431542147.\u001b[0m\n",
      "num_leaves, val_score: 0.414163:  40%|####      | 8/20 [00:05<00:08,  1.43it/s]"
     ]
    },
    {
     "name": "stdout",
     "output_type": "stream",
     "text": [
      "Early stopping, best iteration is:\n",
      "[45]\tvalid_0's binary_logloss: 0.370421\tvalid_1's binary_logloss: 0.41753\n",
      "[LightGBM] [Info] Number of positive: 29545, number of negative: 105602\n",
      "[LightGBM] [Warning] Auto-choosing row-wise multi-threading, the overhead of testing was 0.001282 seconds.\n",
      "You can set `force_row_wise=true` to remove the overhead.\n",
      "And if memory is not enough, you can set `force_col_wise=true`.\n",
      "[LightGBM] [Info] Total Bins 3546\n",
      "[LightGBM] [Info] Number of data points in the train set: 135147, number of used features: 40\n",
      "[LightGBM] [Info] [binary:BoostFromScore]: pavg=0.218614 -> initscore=-1.273763\n",
      "[LightGBM] [Info] Start training from score -1.273763\n",
      "Training until validation scores don't improve for 10 rounds\n"
     ]
    },
    {
     "name": "stderr",
     "output_type": "stream",
     "text": [
      "num_leaves, val_score: 0.414163:  45%|####5     | 9/20 [00:05<00:07,  1.53it/s]\u001b[32m[I 2023-02-06 01:40:26,099]\u001b[0m Trial 15 finished with value: 0.414641889505398 and parameters: {'num_leaves': 36}. Best is trial 12 with value: 0.4141631431542147.\u001b[0m\n",
      "num_leaves, val_score: 0.414163:  45%|####5     | 9/20 [00:05<00:07,  1.53it/s]"
     ]
    },
    {
     "name": "stdout",
     "output_type": "stream",
     "text": [
      "Early stopping, best iteration is:\n",
      "[53]\tvalid_0's binary_logloss: 0.408531\tvalid_1's binary_logloss: 0.414642\n",
      "[LightGBM] [Info] Number of positive: 29545, number of negative: 105602\n",
      "[LightGBM] [Warning] Auto-choosing col-wise multi-threading, the overhead of testing was 0.007459 seconds.\n",
      "You can set `force_col_wise=true` to remove the overhead.\n",
      "[LightGBM] [Info] Total Bins 3546\n",
      "[LightGBM] [Info] Number of data points in the train set: 135147, number of used features: 40\n",
      "[LightGBM] [Info] [binary:BoostFromScore]: pavg=0.218614 -> initscore=-1.273763\n",
      "[LightGBM] [Info] Start training from score -1.273763\n",
      "Training until validation scores don't improve for 10 rounds\n"
     ]
    },
    {
     "name": "stderr",
     "output_type": "stream",
     "text": [
      "num_leaves, val_score: 0.414163:  50%|#####     | 10/20 [00:06<00:06,  1.56it/s]\u001b[32m[I 2023-02-06 01:40:26,716]\u001b[0m Trial 16 finished with value: 0.41661311390345535 and parameters: {'num_leaves': 148}. Best is trial 12 with value: 0.4141631431542147.\u001b[0m\n",
      "num_leaves, val_score: 0.414163:  50%|#####     | 10/20 [00:06<00:06,  1.56it/s]"
     ]
    },
    {
     "name": "stdout",
     "output_type": "stream",
     "text": [
      "Early stopping, best iteration is:\n",
      "[42]\tvalid_0's binary_logloss: 0.385934\tvalid_1's binary_logloss: 0.416613\n",
      "[LightGBM] [Info] Number of positive: 29545, number of negative: 105602\n",
      "[LightGBM] [Warning] Auto-choosing col-wise multi-threading, the overhead of testing was 0.006998 seconds.\n",
      "You can set `force_col_wise=true` to remove the overhead.\n",
      "[LightGBM] [Info] Total Bins 3546\n",
      "[LightGBM] [Info] Number of data points in the train set: 135147, number of used features: 40\n",
      "[LightGBM] [Info] [binary:BoostFromScore]: pavg=0.218614 -> initscore=-1.273763\n",
      "[LightGBM] [Info] Start training from score -1.273763\n",
      "Training until validation scores don't improve for 10 rounds\n"
     ]
    },
    {
     "name": "stderr",
     "output_type": "stream",
     "text": [
      "num_leaves, val_score: 0.414163:  55%|#####5    | 11/20 [00:06<00:05,  1.66it/s]\u001b[32m[I 2023-02-06 01:40:27,234]\u001b[0m Trial 17 finished with value: 0.4155220298920683 and parameters: {'num_leaves': 68}. Best is trial 12 with value: 0.4141631431542147.\u001b[0m\n",
      "num_leaves, val_score: 0.414163:  55%|#####5    | 11/20 [00:06<00:05,  1.66it/s]"
     ]
    },
    {
     "name": "stdout",
     "output_type": "stream",
     "text": [
      "Early stopping, best iteration is:\n",
      "[50]\tvalid_0's binary_logloss: 0.400092\tvalid_1's binary_logloss: 0.415522\n",
      "[LightGBM] [Info] Number of positive: 29545, number of negative: 105602\n",
      "[LightGBM] [Warning] Auto-choosing row-wise multi-threading, the overhead of testing was 0.001311 seconds.\n",
      "You can set `force_row_wise=true` to remove the overhead.\n",
      "And if memory is not enough, you can set `force_col_wise=true`.\n",
      "[LightGBM] [Info] Total Bins 3546\n",
      "[LightGBM] [Info] Number of data points in the train set: 135147, number of used features: 40\n",
      "[LightGBM] [Info] [binary:BoostFromScore]: pavg=0.218614 -> initscore=-1.273763\n",
      "[LightGBM] [Info] Start training from score -1.273763\n",
      "Training until validation scores don't improve for 10 rounds\n"
     ]
    },
    {
     "name": "stderr",
     "output_type": "stream",
     "text": [
      "num_leaves, val_score: 0.414128:  60%|######    | 12/20 [00:07<00:04,  1.66it/s]\u001b[32m[I 2023-02-06 01:40:27,830]\u001b[0m Trial 18 finished with value: 0.41412770224453765 and parameters: {'num_leaves': 9}. Best is trial 18 with value: 0.41412770224453765.\u001b[0m\n",
      "num_leaves, val_score: 0.414128:  60%|######    | 12/20 [00:07<00:04,  1.66it/s]"
     ]
    },
    {
     "name": "stdout",
     "output_type": "stream",
     "text": [
      "Early stopping, best iteration is:\n",
      "[80]\tvalid_0's binary_logloss: 0.415356\tvalid_1's binary_logloss: 0.414128\n",
      "[LightGBM] [Info] Number of positive: 29545, number of negative: 105602\n",
      "[LightGBM] [Warning] Auto-choosing col-wise multi-threading, the overhead of testing was 0.006976 seconds.\n",
      "You can set `force_col_wise=true` to remove the overhead.\n",
      "[LightGBM] [Info] Total Bins 3546\n",
      "[LightGBM] [Info] Number of data points in the train set: 135147, number of used features: 40\n",
      "[LightGBM] [Info] [binary:BoostFromScore]: pavg=0.218614 -> initscore=-1.273763\n",
      "[LightGBM] [Info] Start training from score -1.273763\n",
      "Training until validation scores don't improve for 10 rounds\n",
      "[100]\tvalid_0's binary_logloss: 0.420481\tvalid_1's binary_logloss: 0.416502\n",
      "[200]\tvalid_0's binary_logloss: 0.419574\tvalid_1's binary_logloss: 0.415843\n",
      "[300]\tvalid_0's binary_logloss: 0.419204\tvalid_1's binary_logloss: 0.415661\n"
     ]
    },
    {
     "name": "stderr",
     "output_type": "stream",
     "text": [
      "num_leaves, val_score: 0.414128:  65%|######5   | 13/20 [00:08<00:04,  1.44it/s]\u001b[32m[I 2023-02-06 01:40:28,734]\u001b[0m Trial 19 finished with value: 0.41561689995634216 and parameters: {'num_leaves': 2}. Best is trial 18 with value: 0.41412770224453765.\u001b[0m\n",
      "num_leaves, val_score: 0.414128:  65%|######5   | 13/20 [00:08<00:04,  1.44it/s]"
     ]
    },
    {
     "name": "stdout",
     "output_type": "stream",
     "text": [
      "Early stopping, best iteration is:\n",
      "[337]\tvalid_0's binary_logloss: 0.41911\tvalid_1's binary_logloss: 0.415617\n",
      "[LightGBM] [Info] Number of positive: 29545, number of negative: 105602\n",
      "[LightGBM] [Warning] Auto-choosing col-wise multi-threading, the overhead of testing was 0.006316 seconds.\n",
      "You can set `force_col_wise=true` to remove the overhead.\n",
      "[LightGBM] [Info] Total Bins 3546\n",
      "[LightGBM] [Info] Number of data points in the train set: 135147, number of used features: 40\n",
      "[LightGBM] [Info] [binary:BoostFromScore]: pavg=0.218614 -> initscore=-1.273763\n",
      "[LightGBM] [Info] Start training from score -1.273763\n",
      "Training until validation scores don't improve for 10 rounds\n"
     ]
    },
    {
     "name": "stderr",
     "output_type": "stream",
     "text": [
      "num_leaves, val_score: 0.414128:  70%|#######   | 14/20 [00:08<00:03,  1.53it/s]\u001b[32m[I 2023-02-06 01:40:29,293]\u001b[0m Trial 20 finished with value: 0.41470012807340717 and parameters: {'num_leaves': 50}. Best is trial 18 with value: 0.41412770224453765.\u001b[0m\n",
      "num_leaves, val_score: 0.414128:  70%|#######   | 14/20 [00:08<00:03,  1.53it/s]"
     ]
    },
    {
     "name": "stdout",
     "output_type": "stream",
     "text": [
      "Early stopping, best iteration is:\n",
      "[68]\tvalid_0's binary_logloss: 0.399857\tvalid_1's binary_logloss: 0.4147\n",
      "[LightGBM] [Info] Number of positive: 29545, number of negative: 105602\n",
      "[LightGBM] [Warning] Auto-choosing col-wise multi-threading, the overhead of testing was 0.007738 seconds.\n",
      "You can set `force_col_wise=true` to remove the overhead.\n",
      "[LightGBM] [Info] Total Bins 3546\n",
      "[LightGBM] [Info] Number of data points in the train set: 135147, number of used features: 40\n",
      "[LightGBM] [Info] [binary:BoostFromScore]: pavg=0.218614 -> initscore=-1.273763\n",
      "[LightGBM] [Info] Start training from score -1.273763\n",
      "Training until validation scores don't improve for 10 rounds\n"
     ]
    },
    {
     "name": "stderr",
     "output_type": "stream",
     "text": [
      "num_leaves, val_score: 0.414128:  75%|#######5  | 15/20 [00:09<00:03,  1.56it/s]\u001b[32m[I 2023-02-06 01:40:29,904]\u001b[0m Trial 21 finished with value: 0.4160648686379891 and parameters: {'num_leaves': 107}. Best is trial 18 with value: 0.41412770224453765.\u001b[0m\n",
      "num_leaves, val_score: 0.414128:  75%|#######5  | 15/20 [00:09<00:03,  1.56it/s]"
     ]
    },
    {
     "name": "stdout",
     "output_type": "stream",
     "text": [
      "Early stopping, best iteration is:\n",
      "[52]\tvalid_0's binary_logloss: 0.388407\tvalid_1's binary_logloss: 0.416065\n",
      "[LightGBM] [Info] Number of positive: 29545, number of negative: 105602\n",
      "[LightGBM] [Warning] Auto-choosing row-wise multi-threading, the overhead of testing was 0.001224 seconds.\n",
      "You can set `force_row_wise=true` to remove the overhead.\n",
      "And if memory is not enough, you can set `force_col_wise=true`.\n",
      "[LightGBM] [Info] Total Bins 3546\n",
      "[LightGBM] [Info] Number of data points in the train set: 135147, number of used features: 40\n",
      "[LightGBM] [Info] [binary:BoostFromScore]: pavg=0.218614 -> initscore=-1.273763\n",
      "[LightGBM] [Info] Start training from score -1.273763\n",
      "Training until validation scores don't improve for 10 rounds\n"
     ]
    },
    {
     "name": "stderr",
     "output_type": "stream",
     "text": [
      "num_leaves, val_score: 0.414128:  80%|########  | 16/20 [00:10<00:02,  1.64it/s]\u001b[32m[I 2023-02-06 01:40:30,439]\u001b[0m Trial 22 finished with value: 0.41454212667026347 and parameters: {'num_leaves': 27}. Best is trial 18 with value: 0.41412770224453765.\u001b[0m\n",
      "num_leaves, val_score: 0.414128:  80%|########  | 16/20 [00:10<00:02,  1.64it/s]"
     ]
    },
    {
     "name": "stdout",
     "output_type": "stream",
     "text": [
      "Early stopping, best iteration is:\n",
      "[54]\tvalid_0's binary_logloss: 0.410933\tvalid_1's binary_logloss: 0.414542\n",
      "[LightGBM] [Info] Number of positive: 29545, number of negative: 105602\n",
      "[LightGBM] [Warning] Auto-choosing row-wise multi-threading, the overhead of testing was 0.001320 seconds.\n",
      "You can set `force_row_wise=true` to remove the overhead.\n",
      "And if memory is not enough, you can set `force_col_wise=true`.\n",
      "[LightGBM] [Info] Total Bins 3546\n",
      "[LightGBM] [Info] Number of data points in the train set: 135147, number of used features: 40\n",
      "[LightGBM] [Info] [binary:BoostFromScore]: pavg=0.218614 -> initscore=-1.273763\n",
      "[LightGBM] [Info] Start training from score -1.273763\n",
      "Training until validation scores don't improve for 10 rounds\n"
     ]
    },
    {
     "name": "stderr",
     "output_type": "stream",
     "text": [
      "num_leaves, val_score: 0.414128:  85%|########5 | 17/20 [00:10<00:01,  1.67it/s]\u001b[32m[I 2023-02-06 01:40:31,019]\u001b[0m Trial 23 finished with value: 0.4156832719317917 and parameters: {'num_leaves': 85}. Best is trial 18 with value: 0.41412770224453765.\u001b[0m\n",
      "num_leaves, val_score: 0.414128:  85%|########5 | 17/20 [00:10<00:01,  1.67it/s]"
     ]
    },
    {
     "name": "stdout",
     "output_type": "stream",
     "text": [
      "Early stopping, best iteration is:\n",
      "[46]\tvalid_0's binary_logloss: 0.397192\tvalid_1's binary_logloss: 0.415683\n",
      "[LightGBM] [Info] Number of positive: 29545, number of negative: 105602\n",
      "[LightGBM] [Warning] Auto-choosing col-wise multi-threading, the overhead of testing was 0.005813 seconds.\n",
      "You can set `force_col_wise=true` to remove the overhead.\n",
      "[LightGBM] [Info] Total Bins 3546\n",
      "[LightGBM] [Info] Number of data points in the train set: 135147, number of used features: 40\n",
      "[LightGBM] [Info] [binary:BoostFromScore]: pavg=0.218614 -> initscore=-1.273763\n",
      "[LightGBM] [Info] Start training from score -1.273763\n",
      "Training until validation scores don't improve for 10 rounds\n"
     ]
    },
    {
     "name": "stderr",
     "output_type": "stream",
     "text": [
      "num_leaves, val_score: 0.414128:  90%|######### | 18/20 [00:11<00:01,  1.77it/s]\u001b[32m[I 2023-02-06 01:40:31,507]\u001b[0m Trial 24 finished with value: 0.41435267843402696 and parameters: {'num_leaves': 30}. Best is trial 18 with value: 0.41412770224453765.\u001b[0m\n",
      "num_leaves, val_score: 0.414128:  90%|######### | 18/20 [00:11<00:01,  1.77it/s]"
     ]
    },
    {
     "name": "stdout",
     "output_type": "stream",
     "text": [
      "Early stopping, best iteration is:\n",
      "[61]\tvalid_0's binary_logloss: 0.408816\tvalid_1's binary_logloss: 0.414353\n",
      "[LightGBM] [Info] Number of positive: 29545, number of negative: 105602\n",
      "[LightGBM] [Warning] Auto-choosing col-wise multi-threading, the overhead of testing was 0.006868 seconds.\n",
      "You can set `force_col_wise=true` to remove the overhead.\n",
      "[LightGBM] [Info] Total Bins 3546\n",
      "[LightGBM] [Info] Number of data points in the train set: 135147, number of used features: 40\n",
      "[LightGBM] [Info] [binary:BoostFromScore]: pavg=0.218614 -> initscore=-1.273763\n",
      "[LightGBM] [Info] Start training from score -1.273763\n",
      "Training until validation scores don't improve for 10 rounds\n"
     ]
    },
    {
     "name": "stderr",
     "output_type": "stream",
     "text": [
      "num_leaves, val_score: 0.414128:  95%|#########5| 19/20 [00:11<00:00,  1.79it/s]\u001b[32m[I 2023-02-06 01:40:32,042]\u001b[0m Trial 25 finished with value: 0.4152040052544606 and parameters: {'num_leaves': 55}. Best is trial 18 with value: 0.41412770224453765.\u001b[0m\n",
      "num_leaves, val_score: 0.414128:  95%|#########5| 19/20 [00:11<00:00,  1.79it/s]"
     ]
    },
    {
     "name": "stdout",
     "output_type": "stream",
     "text": [
      "Early stopping, best iteration is:\n",
      "[50]\tvalid_0's binary_logloss: 0.403582\tvalid_1's binary_logloss: 0.415204\n",
      "[LightGBM] [Info] Number of positive: 29545, number of negative: 105602\n",
      "[LightGBM] [Warning] Auto-choosing row-wise multi-threading, the overhead of testing was 0.001317 seconds.\n",
      "You can set `force_row_wise=true` to remove the overhead.\n",
      "And if memory is not enough, you can set `force_col_wise=true`.\n",
      "[LightGBM] [Info] Total Bins 3546\n",
      "[LightGBM] [Info] Number of data points in the train set: 135147, number of used features: 40\n",
      "[LightGBM] [Info] [binary:BoostFromScore]: pavg=0.218614 -> initscore=-1.273763\n",
      "[LightGBM] [Info] Start training from score -1.273763\n",
      "Training until validation scores don't improve for 10 rounds\n"
     ]
    },
    {
     "name": "stderr",
     "output_type": "stream",
     "text": [
      "num_leaves, val_score: 0.414128: 100%|##########| 20/20 [00:12<00:00,  1.50it/s]\u001b[32m[I 2023-02-06 01:40:32,959]\u001b[0m Trial 26 finished with value: 0.41810406356671326 and parameters: {'num_leaves': 247}. Best is trial 18 with value: 0.41412770224453765.\u001b[0m\n",
      "num_leaves, val_score: 0.414128: 100%|##########| 20/20 [00:12<00:00,  1.58it/s]\n"
     ]
    },
    {
     "name": "stdout",
     "output_type": "stream",
     "text": [
      "Early stopping, best iteration is:\n",
      "[45]\tvalid_0's binary_logloss: 0.363953\tvalid_1's binary_logloss: 0.418104\n"
     ]
    },
    {
     "name": "stderr",
     "output_type": "stream",
     "text": [
      "bagging, val_score: 0.414128:   0%|          | 0/10 [00:00<?, ?it/s]"
     ]
    },
    {
     "name": "stdout",
     "output_type": "stream",
     "text": [
      "[LightGBM] [Info] Number of positive: 29545, number of negative: 105602\n",
      "[LightGBM] [Warning] Auto-choosing col-wise multi-threading, the overhead of testing was 0.006804 seconds.\n",
      "You can set `force_col_wise=true` to remove the overhead.\n",
      "[LightGBM] [Info] Total Bins 3546\n",
      "[LightGBM] [Info] Number of data points in the train set: 135147, number of used features: 40\n",
      "[LightGBM] [Info] [binary:BoostFromScore]: pavg=0.218614 -> initscore=-1.273763\n",
      "[LightGBM] [Info] Start training from score -1.273763\n",
      "Training until validation scores don't improve for 10 rounds\n"
     ]
    },
    {
     "name": "stderr",
     "output_type": "stream",
     "text": [
      "bagging, val_score: 0.414128:  10%|#         | 1/10 [00:00<00:04,  2.13it/s]\u001b[32m[I 2023-02-06 01:40:33,435]\u001b[0m Trial 27 finished with value: 0.4142761798972281 and parameters: {'bagging_fraction': 0.7260429650751228, 'bagging_freq': 2}. Best is trial 27 with value: 0.4142761798972281.\u001b[0m\n",
      "bagging, val_score: 0.414128:  10%|#         | 1/10 [00:00<00:04,  2.13it/s]"
     ]
    },
    {
     "name": "stdout",
     "output_type": "stream",
     "text": [
      "Early stopping, best iteration is:\n",
      "[81]\tvalid_0's binary_logloss: 0.415257\tvalid_1's binary_logloss: 0.414276\n",
      "[LightGBM] [Info] Number of positive: 29545, number of negative: 105602\n",
      "[LightGBM] [Warning] Auto-choosing row-wise multi-threading, the overhead of testing was 0.001205 seconds.\n",
      "You can set `force_row_wise=true` to remove the overhead.\n",
      "And if memory is not enough, you can set `force_col_wise=true`.\n",
      "[LightGBM] [Info] Total Bins 3546\n",
      "[LightGBM] [Info] Number of data points in the train set: 135147, number of used features: 40\n",
      "[LightGBM] [Info] [binary:BoostFromScore]: pavg=0.218614 -> initscore=-1.273763\n",
      "[LightGBM] [Info] Start training from score -1.273763\n",
      "Training until validation scores don't improve for 10 rounds\n"
     ]
    },
    {
     "name": "stderr",
     "output_type": "stream",
     "text": [
      "bagging, val_score: 0.414128:  20%|##        | 2/10 [00:00<00:03,  2.08it/s]\u001b[32m[I 2023-02-06 01:40:33,923]\u001b[0m Trial 28 finished with value: 0.41433393743314795 and parameters: {'bagging_fraction': 0.6547105544499044, 'bagging_freq': 6}. Best is trial 27 with value: 0.4142761798972281.\u001b[0m\n",
      "bagging, val_score: 0.414128:  20%|##        | 2/10 [00:00<00:03,  2.08it/s]"
     ]
    },
    {
     "name": "stdout",
     "output_type": "stream",
     "text": [
      "Early stopping, best iteration is:\n",
      "[75]\tvalid_0's binary_logloss: 0.41574\tvalid_1's binary_logloss: 0.414334\n",
      "[LightGBM] [Info] Number of positive: 29545, number of negative: 105602\n",
      "[LightGBM] [Warning] Auto-choosing row-wise multi-threading, the overhead of testing was 0.001305 seconds.\n",
      "You can set `force_row_wise=true` to remove the overhead.\n",
      "And if memory is not enough, you can set `force_col_wise=true`.\n",
      "[LightGBM] [Info] Total Bins 3546\n",
      "[LightGBM] [Info] Number of data points in the train set: 135147, number of used features: 40\n",
      "[LightGBM] [Info] [binary:BoostFromScore]: pavg=0.218614 -> initscore=-1.273763\n",
      "[LightGBM] [Info] Start training from score -1.273763\n",
      "Training until validation scores don't improve for 10 rounds\n"
     ]
    },
    {
     "name": "stderr",
     "output_type": "stream",
     "text": [
      "bagging, val_score: 0.414128:  30%|###       | 3/10 [00:01<00:03,  1.88it/s]\u001b[32m[I 2023-02-06 01:40:34,514]\u001b[0m Trial 29 finished with value: 0.4148444815925112 and parameters: {'bagging_fraction': 0.4028313137145883, 'bagging_freq': 1}. Best is trial 27 with value: 0.4142761798972281.\u001b[0m\n",
      "bagging, val_score: 0.414128:  30%|###       | 3/10 [00:01<00:03,  1.88it/s]"
     ]
    },
    {
     "name": "stdout",
     "output_type": "stream",
     "text": [
      "Early stopping, best iteration is:\n",
      "[76]\tvalid_0's binary_logloss: 0.415469\tvalid_1's binary_logloss: 0.414844\n",
      "[LightGBM] [Info] Number of positive: 29545, number of negative: 105602\n",
      "[LightGBM] [Warning] Auto-choosing col-wise multi-threading, the overhead of testing was 0.008156 seconds.\n",
      "You can set `force_col_wise=true` to remove the overhead.\n",
      "[LightGBM] [Info] Total Bins 3546\n",
      "[LightGBM] [Info] Number of data points in the train set: 135147, number of used features: 40\n",
      "[LightGBM] [Info] [binary:BoostFromScore]: pavg=0.218614 -> initscore=-1.273763\n",
      "[LightGBM] [Info] Start training from score -1.273763\n",
      "Training until validation scores don't improve for 10 rounds\n"
     ]
    },
    {
     "name": "stderr",
     "output_type": "stream",
     "text": [
      "bagging, val_score: 0.414000:  40%|####      | 4/10 [00:02<00:03,  1.74it/s]\u001b[32m[I 2023-02-06 01:40:35,159]\u001b[0m Trial 30 finished with value: 0.41400015851514466 and parameters: {'bagging_fraction': 0.802449450836738, 'bagging_freq': 6}. Best is trial 30 with value: 0.41400015851514466.\u001b[0m\n",
      "bagging, val_score: 0.414000:  40%|####      | 4/10 [00:02<00:03,  1.74it/s]"
     ]
    },
    {
     "name": "stdout",
     "output_type": "stream",
     "text": [
      "[100]\tvalid_0's binary_logloss: 0.414482\tvalid_1's binary_logloss: 0.414052\n",
      "Early stopping, best iteration is:\n",
      "[90]\tvalid_0's binary_logloss: 0.414949\tvalid_1's binary_logloss: 0.414\n",
      "[LightGBM] [Info] Number of positive: 29545, number of negative: 105602\n",
      "[LightGBM] [Warning] Auto-choosing row-wise multi-threading, the overhead of testing was 0.001348 seconds.\n",
      "You can set `force_row_wise=true` to remove the overhead.\n",
      "And if memory is not enough, you can set `force_col_wise=true`.\n",
      "[LightGBM] [Info] Total Bins 3546\n",
      "[LightGBM] [Info] Number of data points in the train set: 135147, number of used features: 40\n",
      "[LightGBM] [Info] [binary:BoostFromScore]: pavg=0.218614 -> initscore=-1.273763\n",
      "[LightGBM] [Info] Start training from score -1.273763\n",
      "Training until validation scores don't improve for 10 rounds\n"
     ]
    },
    {
     "name": "stderr",
     "output_type": "stream",
     "text": [
      "bagging, val_score: 0.414000:  50%|#####     | 5/10 [00:02<00:02,  1.78it/s]\u001b[32m[I 2023-02-06 01:40:35,691]\u001b[0m Trial 31 finished with value: 0.4143724797001761 and parameters: {'bagging_fraction': 0.4820239538111085, 'bagging_freq': 5}. Best is trial 30 with value: 0.41400015851514466.\u001b[0m\n",
      "bagging, val_score: 0.414000:  50%|#####     | 5/10 [00:02<00:02,  1.78it/s]"
     ]
    },
    {
     "name": "stdout",
     "output_type": "stream",
     "text": [
      "Early stopping, best iteration is:\n",
      "[85]\tvalid_0's binary_logloss: 0.415229\tvalid_1's binary_logloss: 0.414372\n",
      "[LightGBM] [Info] Number of positive: 29545, number of negative: 105602\n",
      "[LightGBM] [Warning] Auto-choosing col-wise multi-threading, the overhead of testing was 0.006170 seconds.\n",
      "You can set `force_col_wise=true` to remove the overhead.\n",
      "[LightGBM] [Info] Total Bins 3546\n",
      "[LightGBM] [Info] Number of data points in the train set: 135147, number of used features: 40\n",
      "[LightGBM] [Info] [binary:BoostFromScore]: pavg=0.218614 -> initscore=-1.273763\n",
      "[LightGBM] [Info] Start training from score -1.273763\n",
      "Training until validation scores don't improve for 10 rounds\n"
     ]
    },
    {
     "name": "stderr",
     "output_type": "stream",
     "text": [
      "bagging, val_score: 0.414000:  60%|######    | 6/10 [00:03<00:02,  1.77it/s]\u001b[32m[I 2023-02-06 01:40:36,261]\u001b[0m Trial 32 finished with value: 0.41422554423373376 and parameters: {'bagging_fraction': 0.9347931725882498, 'bagging_freq': 2}. Best is trial 30 with value: 0.41400015851514466.\u001b[0m\n",
      "bagging, val_score: 0.414000:  60%|######    | 6/10 [00:03<00:02,  1.77it/s]"
     ]
    },
    {
     "name": "stdout",
     "output_type": "stream",
     "text": [
      "Early stopping, best iteration is:\n",
      "[84]\tvalid_0's binary_logloss: 0.415248\tvalid_1's binary_logloss: 0.414226\n",
      "[LightGBM] [Info] Number of positive: 29545, number of negative: 105602\n",
      "[LightGBM] [Warning] Auto-choosing col-wise multi-threading, the overhead of testing was 0.007847 seconds.\n",
      "You can set `force_col_wise=true` to remove the overhead.\n",
      "[LightGBM] [Info] Total Bins 3546\n",
      "[LightGBM] [Info] Number of data points in the train set: 135147, number of used features: 40\n",
      "[LightGBM] [Info] [binary:BoostFromScore]: pavg=0.218614 -> initscore=-1.273763\n",
      "[LightGBM] [Info] Start training from score -1.273763\n",
      "Training until validation scores don't improve for 10 rounds\n"
     ]
    },
    {
     "name": "stderr",
     "output_type": "stream",
     "text": [
      "bagging, val_score: 0.414000:  70%|#######   | 7/10 [00:03<00:01,  1.87it/s]\u001b[32m[I 2023-02-06 01:40:36,736]\u001b[0m Trial 33 finished with value: 0.41466183127096684 and parameters: {'bagging_fraction': 0.5111969317302304, 'bagging_freq': 1}. Best is trial 30 with value: 0.41400015851514466.\u001b[0m\n",
      "bagging, val_score: 0.414000:  70%|#######   | 7/10 [00:03<00:01,  1.87it/s]"
     ]
    },
    {
     "name": "stdout",
     "output_type": "stream",
     "text": [
      "Early stopping, best iteration is:\n",
      "[56]\tvalid_0's binary_logloss: 0.416566\tvalid_1's binary_logloss: 0.414662\n",
      "[LightGBM] [Info] Number of positive: 29545, number of negative: 105602\n",
      "[LightGBM] [Warning] Auto-choosing row-wise multi-threading, the overhead of testing was 0.001431 seconds.\n",
      "You can set `force_row_wise=true` to remove the overhead.\n",
      "And if memory is not enough, you can set `force_col_wise=true`.\n",
      "[LightGBM] [Info] Total Bins 3546\n",
      "[LightGBM] [Info] Number of data points in the train set: 135147, number of used features: 40\n",
      "[LightGBM] [Info] [binary:BoostFromScore]: pavg=0.218614 -> initscore=-1.273763\n",
      "[LightGBM] [Info] Start training from score -1.273763\n",
      "Training until validation scores don't improve for 10 rounds\n"
     ]
    },
    {
     "name": "stderr",
     "output_type": "stream",
     "text": [
      "bagging, val_score: 0.414000:  80%|########  | 8/10 [00:04<00:01,  1.95it/s]\u001b[32m[I 2023-02-06 01:40:37,201]\u001b[0m Trial 34 finished with value: 0.4145010881315673 and parameters: {'bagging_fraction': 0.531818495575215, 'bagging_freq': 7}. Best is trial 30 with value: 0.41400015851514466.\u001b[0m\n",
      "bagging, val_score: 0.414000:  80%|########  | 8/10 [00:04<00:01,  1.95it/s]"
     ]
    },
    {
     "name": "stdout",
     "output_type": "stream",
     "text": [
      "Early stopping, best iteration is:\n",
      "[65]\tvalid_0's binary_logloss: 0.41627\tvalid_1's binary_logloss: 0.414501\n",
      "[LightGBM] [Info] Number of positive: 29545, number of negative: 105602\n",
      "[LightGBM] [Warning] Auto-choosing row-wise multi-threading, the overhead of testing was 0.001384 seconds.\n",
      "You can set `force_row_wise=true` to remove the overhead.\n",
      "And if memory is not enough, you can set `force_col_wise=true`.\n",
      "[LightGBM] [Info] Total Bins 3546\n",
      "[LightGBM] [Info] Number of data points in the train set: 135147, number of used features: 40\n",
      "[LightGBM] [Info] [binary:BoostFromScore]: pavg=0.218614 -> initscore=-1.273763\n",
      "[LightGBM] [Info] Start training from score -1.273763\n",
      "Training until validation scores don't improve for 10 rounds\n"
     ]
    },
    {
     "name": "stderr",
     "output_type": "stream",
     "text": [
      "bagging, val_score: 0.414000:  90%|######### | 9/10 [00:04<00:00,  1.83it/s]\u001b[32m[I 2023-02-06 01:40:37,820]\u001b[0m Trial 35 finished with value: 0.4142747480141959 and parameters: {'bagging_fraction': 0.8870098894544057, 'bagging_freq': 2}. Best is trial 30 with value: 0.41400015851514466.\u001b[0m\n",
      "bagging, val_score: 0.414000:  90%|######### | 9/10 [00:04<00:00,  1.83it/s]"
     ]
    },
    {
     "name": "stdout",
     "output_type": "stream",
     "text": [
      "Early stopping, best iteration is:\n",
      "[78]\tvalid_0's binary_logloss: 0.415426\tvalid_1's binary_logloss: 0.414275\n",
      "[LightGBM] [Info] Number of positive: 29545, number of negative: 105602\n",
      "[LightGBM] [Warning] Auto-choosing col-wise multi-threading, the overhead of testing was 0.007437 seconds.\n",
      "You can set `force_col_wise=true` to remove the overhead.\n",
      "[LightGBM] [Info] Total Bins 3546\n",
      "[LightGBM] [Info] Number of data points in the train set: 135147, number of used features: 40\n",
      "[LightGBM] [Info] [binary:BoostFromScore]: pavg=0.218614 -> initscore=-1.273763\n",
      "[LightGBM] [Info] Start training from score -1.273763\n",
      "Training until validation scores don't improve for 10 rounds\n"
     ]
    },
    {
     "name": "stderr",
     "output_type": "stream",
     "text": [
      "bagging, val_score: 0.414000: 100%|##########| 10/10 [00:05<00:00,  1.79it/s]\u001b[32m[I 2023-02-06 01:40:38,406]\u001b[0m Trial 36 finished with value: 0.4142629843872601 and parameters: {'bagging_fraction': 0.8897348492363203, 'bagging_freq': 2}. Best is trial 30 with value: 0.41400015851514466.\u001b[0m\n",
      "bagging, val_score: 0.414000: 100%|##########| 10/10 [00:05<00:00,  1.84it/s]\n"
     ]
    },
    {
     "name": "stdout",
     "output_type": "stream",
     "text": [
      "Early stopping, best iteration is:\n",
      "[68]\tvalid_0's binary_logloss: 0.415907\tvalid_1's binary_logloss: 0.414263\n"
     ]
    },
    {
     "name": "stderr",
     "output_type": "stream",
     "text": [
      "feature_fraction_stage2, val_score: 0.414000:   0%|          | 0/6 [00:00<?, ?it/s]"
     ]
    },
    {
     "name": "stdout",
     "output_type": "stream",
     "text": [
      "[LightGBM] [Info] Number of positive: 29545, number of negative: 105602\n",
      "[LightGBM] [Warning] Auto-choosing col-wise multi-threading, the overhead of testing was 0.006876 seconds.\n",
      "You can set `force_col_wise=true` to remove the overhead.\n",
      "[LightGBM] [Info] Total Bins 3546\n",
      "[LightGBM] [Info] Number of data points in the train set: 135147, number of used features: 40\n",
      "[LightGBM] [Info] [binary:BoostFromScore]: pavg=0.218614 -> initscore=-1.273763\n",
      "[LightGBM] [Info] Start training from score -1.273763\n",
      "Training until validation scores don't improve for 10 rounds\n"
     ]
    },
    {
     "name": "stderr",
     "output_type": "stream",
     "text": [
      "feature_fraction_stage2, val_score: 0.414000:  17%|#6        | 1/6 [00:00<00:02,  1.86it/s]\u001b[32m[I 2023-02-06 01:40:38,951]\u001b[0m Trial 37 finished with value: 0.41419140828984763 and parameters: {'feature_fraction': 0.652}. Best is trial 37 with value: 0.41419140828984763.\u001b[0m\n",
      "feature_fraction_stage2, val_score: 0.414000:  17%|#6        | 1/6 [00:00<00:02,  1.86it/s]"
     ]
    },
    {
     "name": "stdout",
     "output_type": "stream",
     "text": [
      "Early stopping, best iteration is:\n",
      "[81]\tvalid_0's binary_logloss: 0.415296\tvalid_1's binary_logloss: 0.414191\n",
      "[LightGBM] [Info] Number of positive: 29545, number of negative: 105602\n",
      "[LightGBM] [Warning] Auto-choosing col-wise multi-threading, the overhead of testing was 0.008737 seconds.\n",
      "You can set `force_col_wise=true` to remove the overhead.\n",
      "[LightGBM] [Info] Total Bins 3546\n",
      "[LightGBM] [Info] Number of data points in the train set: 135147, number of used features: 40\n",
      "[LightGBM] [Info] [binary:BoostFromScore]: pavg=0.218614 -> initscore=-1.273763\n",
      "[LightGBM] [Info] Start training from score -1.273763\n",
      "Training until validation scores don't improve for 10 rounds\n"
     ]
    },
    {
     "name": "stderr",
     "output_type": "stream",
     "text": [
      "feature_fraction_stage2, val_score: 0.414000:  33%|###3      | 2/6 [00:01<00:02,  1.77it/s]\u001b[32m[I 2023-02-06 01:40:39,533]\u001b[0m Trial 38 finished with value: 0.4140641676286386 and parameters: {'feature_fraction': 0.716}. Best is trial 38 with value: 0.4140641676286386.\u001b[0m\n",
      "feature_fraction_stage2, val_score: 0.414000:  33%|###3      | 2/6 [00:01<00:02,  1.77it/s]"
     ]
    },
    {
     "name": "stdout",
     "output_type": "stream",
     "text": [
      "[100]\tvalid_0's binary_logloss: 0.414466\tvalid_1's binary_logloss: 0.414118\n",
      "Early stopping, best iteration is:\n",
      "[91]\tvalid_0's binary_logloss: 0.414872\tvalid_1's binary_logloss: 0.414064\n",
      "[LightGBM] [Info] Number of positive: 29545, number of negative: 105602\n",
      "[LightGBM] [Warning] Auto-choosing row-wise multi-threading, the overhead of testing was 0.001667 seconds.\n",
      "You can set `force_row_wise=true` to remove the overhead.\n",
      "And if memory is not enough, you can set `force_col_wise=true`.\n",
      "[LightGBM] [Info] Total Bins 3546\n",
      "[LightGBM] [Info] Number of data points in the train set: 135147, number of used features: 40\n",
      "[LightGBM] [Info] [binary:BoostFromScore]: pavg=0.218614 -> initscore=-1.273763\n",
      "[LightGBM] [Info] Start training from score -1.273763\n",
      "Training until validation scores don't improve for 10 rounds\n"
     ]
    },
    {
     "name": "stderr",
     "output_type": "stream",
     "text": [
      "feature_fraction_stage2, val_score: 0.414000:  50%|#####     | 3/6 [00:01<00:01,  1.68it/s]\u001b[32m[I 2023-02-06 01:40:40,162]\u001b[0m Trial 39 finished with value: 0.4141702917004291 and parameters: {'feature_fraction': 0.748}. Best is trial 38 with value: 0.4140641676286386.\u001b[0m\n",
      "feature_fraction_stage2, val_score: 0.414000:  50%|#####     | 3/6 [00:01<00:01,  1.68it/s]"
     ]
    },
    {
     "name": "stdout",
     "output_type": "stream",
     "text": [
      "Early stopping, best iteration is:\n",
      "[81]\tvalid_0's binary_logloss: 0.415305\tvalid_1's binary_logloss: 0.41417\n",
      "[LightGBM] [Info] Number of positive: 29545, number of negative: 105602\n",
      "[LightGBM] [Warning] Auto-choosing col-wise multi-threading, the overhead of testing was 0.007265 seconds.\n",
      "You can set `force_col_wise=true` to remove the overhead.\n",
      "[LightGBM] [Info] Total Bins 3546\n",
      "[LightGBM] [Info] Number of data points in the train set: 135147, number of used features: 40\n",
      "[LightGBM] [Info] [binary:BoostFromScore]: pavg=0.218614 -> initscore=-1.273763\n",
      "[LightGBM] [Info] Start training from score -1.273763\n",
      "Training until validation scores don't improve for 10 rounds\n"
     ]
    },
    {
     "name": "stderr",
     "output_type": "stream",
     "text": [
      "feature_fraction_stage2, val_score: 0.414000:  67%|######6   | 4/6 [00:02<00:01,  1.71it/s]\u001b[32m[I 2023-02-06 01:40:40,736]\u001b[0m Trial 40 finished with value: 0.4144930581754811 and parameters: {'feature_fraction': 0.62}. Best is trial 38 with value: 0.4140641676286386.\u001b[0m\n",
      "feature_fraction_stage2, val_score: 0.414000:  67%|######6   | 4/6 [00:02<00:01,  1.71it/s]"
     ]
    },
    {
     "name": "stdout",
     "output_type": "stream",
     "text": [
      "Early stopping, best iteration is:\n",
      "[81]\tvalid_0's binary_logloss: 0.415504\tvalid_1's binary_logloss: 0.414493\n",
      "[LightGBM] [Info] Number of positive: 29545, number of negative: 105602\n",
      "[LightGBM] [Warning] Auto-choosing col-wise multi-threading, the overhead of testing was 0.006788 seconds.\n",
      "You can set `force_col_wise=true` to remove the overhead.\n",
      "[LightGBM] [Info] Total Bins 3546\n",
      "[LightGBM] [Info] Number of data points in the train set: 135147, number of used features: 40\n",
      "[LightGBM] [Info] [binary:BoostFromScore]: pavg=0.218614 -> initscore=-1.273763\n",
      "[LightGBM] [Info] Start training from score -1.273763\n",
      "Training until validation scores don't improve for 10 rounds\n"
     ]
    },
    {
     "name": "stderr",
     "output_type": "stream",
     "text": [
      "feature_fraction_stage2, val_score: 0.414000:  83%|########3 | 5/6 [00:03<00:00,  1.61it/s]\u001b[32m[I 2023-02-06 01:40:41,421]\u001b[0m Trial 41 finished with value: 0.4140478978323122 and parameters: {'feature_fraction': 0.7799999999999999}. Best is trial 41 with value: 0.4140478978323122.\u001b[0m\n",
      "feature_fraction_stage2, val_score: 0.414000:  83%|########3 | 5/6 [00:03<00:00,  1.61it/s]"
     ]
    },
    {
     "name": "stdout",
     "output_type": "stream",
     "text": [
      "Early stopping, best iteration is:\n",
      "[88]\tvalid_0's binary_logloss: 0.414894\tvalid_1's binary_logloss: 0.414048\n",
      "[LightGBM] [Info] Number of positive: 29545, number of negative: 105602\n",
      "[LightGBM] [Warning] Auto-choosing col-wise multi-threading, the overhead of testing was 0.007191 seconds.\n",
      "You can set `force_col_wise=true` to remove the overhead.\n",
      "[LightGBM] [Info] Total Bins 3546\n",
      "[LightGBM] [Info] Number of data points in the train set: 135147, number of used features: 40\n",
      "[LightGBM] [Info] [binary:BoostFromScore]: pavg=0.218614 -> initscore=-1.273763\n",
      "[LightGBM] [Info] Start training from score -1.273763\n",
      "Training until validation scores don't improve for 10 rounds\n"
     ]
    },
    {
     "name": "stderr",
     "output_type": "stream",
     "text": [
      "feature_fraction_stage2, val_score: 0.414000: 100%|##########| 6/6 [00:03<00:00,  1.60it/s]\u001b[32m[I 2023-02-06 01:40:42,050]\u001b[0m Trial 42 finished with value: 0.4140266879165258 and parameters: {'feature_fraction': 0.6839999999999999}. Best is trial 42 with value: 0.4140266879165258.\u001b[0m\n",
      "feature_fraction_stage2, val_score: 0.414000: 100%|##########| 6/6 [00:03<00:00,  1.65it/s]\n"
     ]
    },
    {
     "name": "stdout",
     "output_type": "stream",
     "text": [
      "[100]\tvalid_0's binary_logloss: 0.414484\tvalid_1's binary_logloss: 0.414051\n",
      "Early stopping, best iteration is:\n",
      "[98]\tvalid_0's binary_logloss: 0.414586\tvalid_1's binary_logloss: 0.414027\n"
     ]
    },
    {
     "name": "stderr",
     "output_type": "stream",
     "text": [
      "regularization_factors, val_score: 0.414000:   0%|          | 0/20 [00:00<?, ?it/s]"
     ]
    },
    {
     "name": "stdout",
     "output_type": "stream",
     "text": [
      "[LightGBM] [Info] Number of positive: 29545, number of negative: 105602\n",
      "[LightGBM] [Warning] Auto-choosing row-wise multi-threading, the overhead of testing was 0.001390 seconds.\n",
      "You can set `force_row_wise=true` to remove the overhead.\n",
      "And if memory is not enough, you can set `force_col_wise=true`.\n",
      "[LightGBM] [Info] Total Bins 3546\n",
      "[LightGBM] [Info] Number of data points in the train set: 135147, number of used features: 40\n",
      "[LightGBM] [Info] [binary:BoostFromScore]: pavg=0.218614 -> initscore=-1.273763\n",
      "[LightGBM] [Info] Start training from score -1.273763\n",
      "Training until validation scores don't improve for 10 rounds\n"
     ]
    },
    {
     "name": "stderr",
     "output_type": "stream",
     "text": [
      "regularization_factors, val_score: 0.414000:   5%|5         | 1/20 [00:00<00:12,  1.56it/s]\u001b[32m[I 2023-02-06 01:40:42,695]\u001b[0m Trial 43 finished with value: 0.4140001532376886 and parameters: {'lambda_l1': 0.0007773998922821829, 'lambda_l2': 3.2012859298995277e-06}. Best is trial 43 with value: 0.4140001532376886.\u001b[0m\n",
      "regularization_factors, val_score: 0.414000:   5%|5         | 1/20 [00:00<00:12,  1.56it/s]"
     ]
    },
    {
     "name": "stdout",
     "output_type": "stream",
     "text": [
      "[100]\tvalid_0's binary_logloss: 0.414482\tvalid_1's binary_logloss: 0.414052\n",
      "Early stopping, best iteration is:\n",
      "[90]\tvalid_0's binary_logloss: 0.414949\tvalid_1's binary_logloss: 0.414\n",
      "[LightGBM] [Info] Number of positive: 29545, number of negative: 105602\n",
      "[LightGBM] [Warning] Auto-choosing col-wise multi-threading, the overhead of testing was 0.006690 seconds.\n",
      "You can set `force_col_wise=true` to remove the overhead.\n",
      "[LightGBM] [Info] Total Bins 3546\n",
      "[LightGBM] [Info] Number of data points in the train set: 135147, number of used features: 40\n",
      "[LightGBM] [Info] [binary:BoostFromScore]: pavg=0.218614 -> initscore=-1.273763\n",
      "[LightGBM] [Info] Start training from score -1.273763\n",
      "Training until validation scores don't improve for 10 rounds\n"
     ]
    },
    {
     "name": "stderr",
     "output_type": "stream",
     "text": [
      "regularization_factors, val_score: 0.414000:  10%|#         | 2/20 [00:01<00:11,  1.63it/s]\u001b[32m[I 2023-02-06 01:40:43,292]\u001b[0m Trial 44 finished with value: 0.41413477620226513 and parameters: {'lambda_l1': 6.616957066014342e-05, 'lambda_l2': 0.400853048601546}. Best is trial 43 with value: 0.4140001532376886.\u001b[0m\n",
      "regularization_factors, val_score: 0.414000:  10%|#         | 2/20 [00:01<00:11,  1.63it/s]"
     ]
    },
    {
     "name": "stdout",
     "output_type": "stream",
     "text": [
      "[100]\tvalid_0's binary_logloss: 0.414632\tvalid_1's binary_logloss: 0.414166\n",
      "Early stopping, best iteration is:\n",
      "[93]\tvalid_0's binary_logloss: 0.414918\tvalid_1's binary_logloss: 0.414135\n",
      "[LightGBM] [Info] Number of positive: 29545, number of negative: 105602\n",
      "[LightGBM] [Warning] Auto-choosing col-wise multi-threading, the overhead of testing was 0.009477 seconds.\n",
      "You can set `force_col_wise=true` to remove the overhead.\n",
      "[LightGBM] [Info] Total Bins 3546\n",
      "[LightGBM] [Info] Number of data points in the train set: 135147, number of used features: 40\n",
      "[LightGBM] [Info] [binary:BoostFromScore]: pavg=0.218614 -> initscore=-1.273763\n",
      "[LightGBM] [Info] Start training from score -1.273763\n",
      "Training until validation scores don't improve for 10 rounds\n"
     ]
    },
    {
     "name": "stderr",
     "output_type": "stream",
     "text": [
      "regularization_factors, val_score: 0.414000:  15%|#5        | 3/20 [00:01<00:10,  1.55it/s]\u001b[32m[I 2023-02-06 01:40:43,969]\u001b[0m Trial 45 finished with value: 0.41400015848713523 and parameters: {'lambda_l1': 1.1027313099672533e-08, 'lambda_l2': 1.242001404761155e-07}. Best is trial 43 with value: 0.4140001532376886.\u001b[0m\n",
      "regularization_factors, val_score: 0.414000:  15%|#5        | 3/20 [00:01<00:10,  1.55it/s]"
     ]
    },
    {
     "name": "stdout",
     "output_type": "stream",
     "text": [
      "[100]\tvalid_0's binary_logloss: 0.414482\tvalid_1's binary_logloss: 0.414052\n",
      "Early stopping, best iteration is:\n",
      "[90]\tvalid_0's binary_logloss: 0.414949\tvalid_1's binary_logloss: 0.414\n",
      "[LightGBM] [Info] Number of positive: 29545, number of negative: 105602\n",
      "[LightGBM] [Warning] Auto-choosing col-wise multi-threading, the overhead of testing was 0.008617 seconds.\n",
      "You can set `force_col_wise=true` to remove the overhead.\n",
      "[LightGBM] [Info] Total Bins 3546\n",
      "[LightGBM] [Info] Number of data points in the train set: 135147, number of used features: 40\n",
      "[LightGBM] [Info] [binary:BoostFromScore]: pavg=0.218614 -> initscore=-1.273763\n",
      "[LightGBM] [Info] Start training from score -1.273763\n",
      "Training until validation scores don't improve for 10 rounds\n"
     ]
    },
    {
     "name": "stderr",
     "output_type": "stream",
     "text": [
      "regularization_factors, val_score: 0.414000:  20%|##        | 4/20 [00:02<00:10,  1.59it/s]\u001b[32m[I 2023-02-06 01:40:44,577]\u001b[0m Trial 46 finished with value: 0.4141442347492163 and parameters: {'lambda_l1': 0.010882827930218712, 'lambda_l2': 0.2708162972907513}. Best is trial 43 with value: 0.4140001532376886.\u001b[0m\n",
      "regularization_factors, val_score: 0.414000:  20%|##        | 4/20 [00:02<00:10,  1.59it/s]"
     ]
    },
    {
     "name": "stdout",
     "output_type": "stream",
     "text": [
      "Early stopping, best iteration is:\n",
      "[81]\tvalid_0's binary_logloss: 0.415368\tvalid_1's binary_logloss: 0.414144\n",
      "[LightGBM] [Info] Number of positive: 29545, number of negative: 105602\n",
      "[LightGBM] [Warning] Auto-choosing col-wise multi-threading, the overhead of testing was 0.006526 seconds.\n",
      "You can set `force_col_wise=true` to remove the overhead.\n",
      "[LightGBM] [Info] Total Bins 3546\n",
      "[LightGBM] [Info] Number of data points in the train set: 135147, number of used features: 40\n",
      "[LightGBM] [Info] [binary:BoostFromScore]: pavg=0.218614 -> initscore=-1.273763\n",
      "[LightGBM] [Info] Start training from score -1.273763\n",
      "Training until validation scores don't improve for 10 rounds\n"
     ]
    },
    {
     "name": "stderr",
     "output_type": "stream",
     "text": [
      "regularization_factors, val_score: 0.414000:  25%|##5       | 5/20 [00:03<00:09,  1.65it/s]\u001b[32m[I 2023-02-06 01:40:45,146]\u001b[0m Trial 47 finished with value: 0.4139998249747025 and parameters: {'lambda_l1': 1.6996492507894156e-07, 'lambda_l2': 0.0014991323116035308}. Best is trial 47 with value: 0.4139998249747025.\u001b[0m\n",
      "regularization_factors, val_score: 0.414000:  25%|##5       | 5/20 [00:03<00:09,  1.65it/s]"
     ]
    },
    {
     "name": "stdout",
     "output_type": "stream",
     "text": [
      "[100]\tvalid_0's binary_logloss: 0.414483\tvalid_1's binary_logloss: 0.414052\n",
      "Early stopping, best iteration is:\n",
      "[90]\tvalid_0's binary_logloss: 0.41495\tvalid_1's binary_logloss: 0.414\n",
      "[LightGBM] [Info] Number of positive: 29545, number of negative: 105602\n",
      "[LightGBM] [Warning] Auto-choosing row-wise multi-threading, the overhead of testing was 0.001406 seconds.\n",
      "You can set `force_row_wise=true` to remove the overhead.\n",
      "And if memory is not enough, you can set `force_col_wise=true`.\n",
      "[LightGBM] [Info] Total Bins 3546\n",
      "[LightGBM] [Info] Number of data points in the train set: 135147, number of used features: 40\n",
      "[LightGBM] [Info] [binary:BoostFromScore]: pavg=0.218614 -> initscore=-1.273763\n",
      "[LightGBM] [Info] Start training from score -1.273763\n",
      "Training until validation scores don't improve for 10 rounds\n"
     ]
    },
    {
     "name": "stderr",
     "output_type": "stream",
     "text": [
      "regularization_factors, val_score: 0.414000:  30%|###       | 6/20 [00:03<00:08,  1.59it/s]\u001b[32m[I 2023-02-06 01:40:45,811]\u001b[0m Trial 48 finished with value: 0.4141234533292151 and parameters: {'lambda_l1': 1.0517138394360073, 'lambda_l2': 7.635176818135586e-07}. Best is trial 47 with value: 0.4139998249747025.\u001b[0m\n",
      "regularization_factors, val_score: 0.414000:  30%|###       | 6/20 [00:03<00:08,  1.59it/s]"
     ]
    },
    {
     "name": "stdout",
     "output_type": "stream",
     "text": [
      "Early stopping, best iteration is:\n",
      "[89]\tvalid_0's binary_logloss: 0.415184\tvalid_1's binary_logloss: 0.414123\n",
      "[LightGBM] [Info] Number of positive: 29545, number of negative: 105602\n",
      "[LightGBM] [Warning] Auto-choosing row-wise multi-threading, the overhead of testing was 0.001458 seconds.\n",
      "You can set `force_row_wise=true` to remove the overhead.\n",
      "And if memory is not enough, you can set `force_col_wise=true`.\n",
      "[LightGBM] [Info] Total Bins 3546\n",
      "[LightGBM] [Info] Number of data points in the train set: 135147, number of used features: 40\n",
      "[LightGBM] [Info] [binary:BoostFromScore]: pavg=0.218614 -> initscore=-1.273763\n",
      "[LightGBM] [Info] Start training from score -1.273763\n",
      "Training until validation scores don't improve for 10 rounds\n"
     ]
    },
    {
     "name": "stderr",
     "output_type": "stream",
     "text": [
      "regularization_factors, val_score: 0.414000:  35%|###5      | 7/20 [00:04<00:08,  1.58it/s]\u001b[32m[I 2023-02-06 01:40:46,453]\u001b[0m Trial 49 finished with value: 0.4140001584907235 and parameters: {'lambda_l1': 4.655367559816141e-07, 'lambda_l2': 9.449134137745608e-08}. Best is trial 47 with value: 0.4139998249747025.\u001b[0m\n",
      "regularization_factors, val_score: 0.414000:  35%|###5      | 7/20 [00:04<00:08,  1.58it/s]"
     ]
    },
    {
     "name": "stdout",
     "output_type": "stream",
     "text": [
      "[100]\tvalid_0's binary_logloss: 0.414482\tvalid_1's binary_logloss: 0.414052\n",
      "Early stopping, best iteration is:\n",
      "[90]\tvalid_0's binary_logloss: 0.414949\tvalid_1's binary_logloss: 0.414\n",
      "[LightGBM] [Info] Number of positive: 29545, number of negative: 105602\n",
      "[LightGBM] [Warning] Auto-choosing row-wise multi-threading, the overhead of testing was 0.001368 seconds.\n",
      "You can set `force_row_wise=true` to remove the overhead.\n",
      "And if memory is not enough, you can set `force_col_wise=true`.\n",
      "[LightGBM] [Info] Total Bins 3546\n",
      "[LightGBM] [Info] Number of data points in the train set: 135147, number of used features: 40\n",
      "[LightGBM] [Info] [binary:BoostFromScore]: pavg=0.218614 -> initscore=-1.273763\n",
      "[LightGBM] [Info] Start training from score -1.273763\n",
      "Training until validation scores don't improve for 10 rounds\n"
     ]
    },
    {
     "name": "stderr",
     "output_type": "stream",
     "text": [
      "regularization_factors, val_score: 0.414000:  40%|####      | 8/20 [00:05<00:07,  1.59it/s]\u001b[32m[I 2023-02-06 01:40:47,075]\u001b[0m Trial 50 finished with value: 0.4140800604418207 and parameters: {'lambda_l1': 9.490245203532942e-07, 'lambda_l2': 6.421168438428032}. Best is trial 47 with value: 0.4139998249747025.\u001b[0m\n",
      "regularization_factors, val_score: 0.414000:  40%|####      | 8/20 [00:05<00:07,  1.59it/s]"
     ]
    },
    {
     "name": "stdout",
     "output_type": "stream",
     "text": [
      "[100]\tvalid_0's binary_logloss: 0.414865\tvalid_1's binary_logloss: 0.414123\n",
      "Early stopping, best iteration is:\n",
      "[93]\tvalid_0's binary_logloss: 0.415119\tvalid_1's binary_logloss: 0.41408\n",
      "[LightGBM] [Info] Number of positive: 29545, number of negative: 105602\n",
      "[LightGBM] [Warning] Auto-choosing row-wise multi-threading, the overhead of testing was 0.001410 seconds.\n",
      "You can set `force_row_wise=true` to remove the overhead.\n",
      "And if memory is not enough, you can set `force_col_wise=true`.\n",
      "[LightGBM] [Info] Total Bins 3546\n",
      "[LightGBM] [Info] Number of data points in the train set: 135147, number of used features: 40\n",
      "[LightGBM] [Info] [binary:BoostFromScore]: pavg=0.218614 -> initscore=-1.273763\n",
      "[LightGBM] [Info] Start training from score -1.273763\n",
      "Training until validation scores don't improve for 10 rounds\n"
     ]
    },
    {
     "name": "stderr",
     "output_type": "stream",
     "text": [
      "regularization_factors, val_score: 0.414000:  45%|####5     | 9/20 [00:05<00:06,  1.60it/s]\u001b[32m[I 2023-02-06 01:40:47,689]\u001b[0m Trial 51 finished with value: 0.414128797501196 and parameters: {'lambda_l1': 0.2019055894080857, 'lambda_l2': 3.5275169933928286e-07}. Best is trial 47 with value: 0.4139998249747025.\u001b[0m\n",
      "regularization_factors, val_score: 0.414000:  45%|####5     | 9/20 [00:05<00:06,  1.60it/s]"
     ]
    },
    {
     "name": "stdout",
     "output_type": "stream",
     "text": [
      "[100]\tvalid_0's binary_logloss: 0.414594\tvalid_1's binary_logloss: 0.414152\n",
      "Early stopping, best iteration is:\n",
      "[91]\tvalid_0's binary_logloss: 0.414998\tvalid_1's binary_logloss: 0.414129\n",
      "[LightGBM] [Info] Number of positive: 29545, number of negative: 105602\n",
      "[LightGBM] [Warning] Auto-choosing row-wise multi-threading, the overhead of testing was 0.001437 seconds.\n",
      "You can set `force_row_wise=true` to remove the overhead.\n",
      "And if memory is not enough, you can set `force_col_wise=true`.\n",
      "[LightGBM] [Info] Total Bins 3546\n",
      "[LightGBM] [Info] Number of data points in the train set: 135147, number of used features: 40\n",
      "[LightGBM] [Info] [binary:BoostFromScore]: pavg=0.218614 -> initscore=-1.273763\n",
      "[LightGBM] [Info] Start training from score -1.273763\n",
      "Training until validation scores don't improve for 10 rounds\n"
     ]
    },
    {
     "name": "stderr",
     "output_type": "stream",
     "text": [
      "regularization_factors, val_score: 0.414000:  50%|#####     | 10/20 [00:06<00:06,  1.59it/s]\u001b[32m[I 2023-02-06 01:40:48,334]\u001b[0m Trial 52 finished with value: 0.41407699173563617 and parameters: {'lambda_l1': 0.22183125618514202, 'lambda_l2': 2.9286247167445133e-06}. Best is trial 47 with value: 0.4139998249747025.\u001b[0m\n",
      "regularization_factors, val_score: 0.414000:  50%|#####     | 10/20 [00:06<00:06,  1.59it/s]"
     ]
    },
    {
     "name": "stdout",
     "output_type": "stream",
     "text": [
      "Early stopping, best iteration is:\n",
      "[81]\tvalid_0's binary_logloss: 0.415397\tvalid_1's binary_logloss: 0.414077\n",
      "[LightGBM] [Info] Number of positive: 29545, number of negative: 105602\n",
      "[LightGBM] [Warning] Auto-choosing col-wise multi-threading, the overhead of testing was 0.008095 seconds.\n",
      "You can set `force_col_wise=true` to remove the overhead.\n",
      "[LightGBM] [Info] Total Bins 3546\n",
      "[LightGBM] [Info] Number of data points in the train set: 135147, number of used features: 40\n",
      "[LightGBM] [Info] [binary:BoostFromScore]: pavg=0.218614 -> initscore=-1.273763\n",
      "[LightGBM] [Info] Start training from score -1.273763\n",
      "Training until validation scores don't improve for 10 rounds\n"
     ]
    },
    {
     "name": "stderr",
     "output_type": "stream",
     "text": [
      "regularization_factors, val_score: 0.414000:  55%|#####5    | 11/20 [00:06<00:05,  1.63it/s]\u001b[32m[I 2023-02-06 01:40:48,908]\u001b[0m Trial 53 finished with value: 0.4140000002269891 and parameters: {'lambda_l1': 1.0761290591569095e-08, 'lambda_l2': 0.0007065268759324781}. Best is trial 47 with value: 0.4139998249747025.\u001b[0m\n",
      "regularization_factors, val_score: 0.414000:  55%|#####5    | 11/20 [00:06<00:05,  1.63it/s]"
     ]
    },
    {
     "name": "stdout",
     "output_type": "stream",
     "text": [
      "[100]\tvalid_0's binary_logloss: 0.414483\tvalid_1's binary_logloss: 0.414052\n",
      "Early stopping, best iteration is:\n",
      "[90]\tvalid_0's binary_logloss: 0.41495\tvalid_1's binary_logloss: 0.414\n",
      "[LightGBM] [Info] Number of positive: 29545, number of negative: 105602\n",
      "[LightGBM] [Warning] Auto-choosing row-wise multi-threading, the overhead of testing was 0.001389 seconds.\n",
      "You can set `force_row_wise=true` to remove the overhead.\n",
      "And if memory is not enough, you can set `force_col_wise=true`.\n",
      "[LightGBM] [Info] Total Bins 3546\n",
      "[LightGBM] [Info] Number of data points in the train set: 135147, number of used features: 40\n",
      "[LightGBM] [Info] [binary:BoostFromScore]: pavg=0.218614 -> initscore=-1.273763\n",
      "[LightGBM] [Info] Start training from score -1.273763\n",
      "Training until validation scores don't improve for 10 rounds\n"
     ]
    },
    {
     "name": "stderr",
     "output_type": "stream",
     "text": [
      "regularization_factors, val_score: 0.414000:  60%|######    | 12/20 [00:07<00:04,  1.65it/s]\u001b[32m[I 2023-02-06 01:40:49,501]\u001b[0m Trial 54 finished with value: 0.41400000176515733 and parameters: {'lambda_l1': 1.0092292966586618e-08, 'lambda_l2': 0.0006996304108971563}. Best is trial 47 with value: 0.4139998249747025.\u001b[0m\n",
      "regularization_factors, val_score: 0.414000:  60%|######    | 12/20 [00:07<00:04,  1.65it/s]"
     ]
    },
    {
     "name": "stdout",
     "output_type": "stream",
     "text": [
      "[100]\tvalid_0's binary_logloss: 0.414483\tvalid_1's binary_logloss: 0.414052\n",
      "Early stopping, best iteration is:\n",
      "[90]\tvalid_0's binary_logloss: 0.41495\tvalid_1's binary_logloss: 0.414\n",
      "[LightGBM] [Info] Number of positive: 29545, number of negative: 105602\n",
      "[LightGBM] [Warning] Auto-choosing col-wise multi-threading, the overhead of testing was 0.008278 seconds.\n",
      "You can set `force_col_wise=true` to remove the overhead.\n",
      "[LightGBM] [Info] Total Bins 3546\n",
      "[LightGBM] [Info] Number of data points in the train set: 135147, number of used features: 40\n",
      "[LightGBM] [Info] [binary:BoostFromScore]: pavg=0.218614 -> initscore=-1.273763\n",
      "[LightGBM] [Info] Start training from score -1.273763\n",
      "Training until validation scores don't improve for 10 rounds\n"
     ]
    },
    {
     "name": "stderr",
     "output_type": "stream",
     "text": [
      "regularization_factors, val_score: 0.414000:  65%|######5   | 13/20 [00:08<00:04,  1.64it/s]\u001b[32m[I 2023-02-06 01:40:50,119]\u001b[0m Trial 55 finished with value: 0.41399996513701515 and parameters: {'lambda_l1': 5.10199605590487e-07, 'lambda_l2': 0.0008643422951004643}. Best is trial 47 with value: 0.4139998249747025.\u001b[0m\n",
      "regularization_factors, val_score: 0.414000:  65%|######5   | 13/20 [00:08<00:04,  1.64it/s]"
     ]
    },
    {
     "name": "stdout",
     "output_type": "stream",
     "text": [
      "[100]\tvalid_0's binary_logloss: 0.414483\tvalid_1's binary_logloss: 0.414052\n",
      "Early stopping, best iteration is:\n",
      "[90]\tvalid_0's binary_logloss: 0.41495\tvalid_1's binary_logloss: 0.414\n",
      "[LightGBM] [Info] Number of positive: 29545, number of negative: 105602\n",
      "[LightGBM] [Warning] Auto-choosing row-wise multi-threading, the overhead of testing was 0.001479 seconds.\n",
      "You can set `force_row_wise=true` to remove the overhead.\n",
      "And if memory is not enough, you can set `force_col_wise=true`.\n",
      "[LightGBM] [Info] Total Bins 3546\n",
      "[LightGBM] [Info] Number of data points in the train set: 135147, number of used features: 40\n",
      "[LightGBM] [Info] [binary:BoostFromScore]: pavg=0.218614 -> initscore=-1.273763\n",
      "[LightGBM] [Info] Start training from score -1.273763\n",
      "Training until validation scores don't improve for 10 rounds\n"
     ]
    },
    {
     "name": "stderr",
     "output_type": "stream",
     "text": [
      "regularization_factors, val_score: 0.414000:  70%|#######   | 14/20 [00:08<00:03,  1.60it/s]\u001b[32m[I 2023-02-06 01:40:50,774]\u001b[0m Trial 56 finished with value: 0.41400014489198866 and parameters: {'lambda_l1': 2.588642426316296e-06, 'lambda_l2': 6.039030090026734e-05}. Best is trial 47 with value: 0.4139998249747025.\u001b[0m\n",
      "regularization_factors, val_score: 0.414000:  70%|#######   | 14/20 [00:08<00:03,  1.60it/s]"
     ]
    },
    {
     "name": "stdout",
     "output_type": "stream",
     "text": [
      "[100]\tvalid_0's binary_logloss: 0.414482\tvalid_1's binary_logloss: 0.414052\n",
      "Early stopping, best iteration is:\n",
      "[90]\tvalid_0's binary_logloss: 0.414949\tvalid_1's binary_logloss: 0.414\n",
      "[LightGBM] [Info] Number of positive: 29545, number of negative: 105602\n",
      "[LightGBM] [Warning] Auto-choosing col-wise multi-threading, the overhead of testing was 0.008934 seconds.\n",
      "You can set `force_col_wise=true` to remove the overhead.\n",
      "[LightGBM] [Info] Total Bins 3546\n",
      "[LightGBM] [Info] Number of data points in the train set: 135147, number of used features: 40\n",
      "[LightGBM] [Info] [binary:BoostFromScore]: pavg=0.218614 -> initscore=-1.273763\n",
      "[LightGBM] [Info] Start training from score -1.273763\n",
      "Training until validation scores don't improve for 10 rounds\n"
     ]
    },
    {
     "name": "stderr",
     "output_type": "stream",
     "text": [
      "regularization_factors, val_score: 0.413998:  75%|#######5  | 15/20 [00:09<00:03,  1.57it/s]\u001b[32m[I 2023-02-06 01:40:51,439]\u001b[0m Trial 57 finished with value: 0.4139984173862131 and parameters: {'lambda_l1': 1.3503623228037045e-05, 'lambda_l2': 0.008214974969922708}. Best is trial 57 with value: 0.4139984173862131.\u001b[0m\n",
      "regularization_factors, val_score: 0.413998:  75%|#######5  | 15/20 [00:09<00:03,  1.57it/s]"
     ]
    },
    {
     "name": "stdout",
     "output_type": "stream",
     "text": [
      "[100]\tvalid_0's binary_logloss: 0.414496\tvalid_1's binary_logloss: 0.414071\n",
      "Early stopping, best iteration is:\n",
      "[90]\tvalid_0's binary_logloss: 0.414954\tvalid_1's binary_logloss: 0.413998\n",
      "[LightGBM] [Info] Number of positive: 29545, number of negative: 105602\n",
      "[LightGBM] [Warning] Auto-choosing col-wise multi-threading, the overhead of testing was 0.007176 seconds.\n",
      "You can set `force_col_wise=true` to remove the overhead.\n",
      "[LightGBM] [Info] Total Bins 3546\n",
      "[LightGBM] [Info] Number of data points in the train set: 135147, number of used features: 40\n",
      "[LightGBM] [Info] [binary:BoostFromScore]: pavg=0.218614 -> initscore=-1.273763\n",
      "[LightGBM] [Info] Start training from score -1.273763\n",
      "Training until validation scores don't improve for 10 rounds\n"
     ]
    },
    {
     "name": "stderr",
     "output_type": "stream",
     "text": [
      "regularization_factors, val_score: 0.413998:  80%|########  | 16/20 [00:10<00:02,  1.57it/s]\u001b[32m[I 2023-02-06 01:40:52,073]\u001b[0m Trial 58 finished with value: 0.4139981775415354 and parameters: {'lambda_l1': 3.776149197088745e-05, 'lambda_l2': 0.009458177602015108}. Best is trial 58 with value: 0.4139981775415354.\u001b[0m\n",
      "regularization_factors, val_score: 0.413998:  80%|########  | 16/20 [00:10<00:02,  1.57it/s]"
     ]
    },
    {
     "name": "stdout",
     "output_type": "stream",
     "text": [
      "[100]\tvalid_0's binary_logloss: 0.414497\tvalid_1's binary_logloss: 0.414071\n",
      "Early stopping, best iteration is:\n",
      "[90]\tvalid_0's binary_logloss: 0.414955\tvalid_1's binary_logloss: 0.413998\n",
      "[LightGBM] [Info] Number of positive: 29545, number of negative: 105602\n",
      "[LightGBM] [Warning] Auto-choosing col-wise multi-threading, the overhead of testing was 0.007495 seconds.\n",
      "You can set `force_col_wise=true` to remove the overhead.\n",
      "[LightGBM] [Info] Total Bins 3546\n",
      "[LightGBM] [Info] Number of data points in the train set: 135147, number of used features: 40\n",
      "[LightGBM] [Info] [binary:BoostFromScore]: pavg=0.218614 -> initscore=-1.273763\n",
      "[LightGBM] [Info] Start training from score -1.273763\n",
      "Training until validation scores don't improve for 10 rounds\n"
     ]
    },
    {
     "name": "stderr",
     "output_type": "stream",
     "text": [
      "regularization_factors, val_score: 0.413998:  85%|########5 | 17/20 [00:10<00:01,  1.59it/s]\u001b[32m[I 2023-02-06 01:40:52,684]\u001b[0m Trial 59 finished with value: 0.41404901083409645 and parameters: {'lambda_l1': 3.571765537195181e-05, 'lambda_l2': 0.014744942951170951}. Best is trial 58 with value: 0.4139981775415354.\u001b[0m\n",
      "regularization_factors, val_score: 0.413998:  85%|########5 | 17/20 [00:10<00:01,  1.59it/s]"
     ]
    },
    {
     "name": "stdout",
     "output_type": "stream",
     "text": [
      "Early stopping, best iteration is:\n",
      "[85]\tvalid_0's binary_logloss: 0.415232\tvalid_1's binary_logloss: 0.414049\n",
      "[LightGBM] [Info] Number of positive: 29545, number of negative: 105602\n",
      "[LightGBM] [Warning] Auto-choosing col-wise multi-threading, the overhead of testing was 0.008389 seconds.\n",
      "You can set `force_col_wise=true` to remove the overhead.\n",
      "[LightGBM] [Info] Total Bins 3546\n",
      "[LightGBM] [Info] Number of data points in the train set: 135147, number of used features: 40\n",
      "[LightGBM] [Info] [binary:BoostFromScore]: pavg=0.218614 -> initscore=-1.273763\n",
      "[LightGBM] [Info] Start training from score -1.273763\n",
      "Training until validation scores don't improve for 10 rounds\n"
     ]
    },
    {
     "name": "stderr",
     "output_type": "stream",
     "text": [
      "regularization_factors, val_score: 0.413998:  90%|######### | 18/20 [00:11<00:01,  1.65it/s]\u001b[32m[I 2023-02-06 01:40:53,233]\u001b[0m Trial 60 finished with value: 0.4140536125298804 and parameters: {'lambda_l1': 0.0008043442934324992, 'lambda_l2': 0.020503066366016717}. Best is trial 58 with value: 0.4139981775415354.\u001b[0m\n",
      "regularization_factors, val_score: 0.413998:  90%|######### | 18/20 [00:11<00:01,  1.65it/s]"
     ]
    },
    {
     "name": "stdout",
     "output_type": "stream",
     "text": [
      "Early stopping, best iteration is:\n",
      "[81]\tvalid_0's binary_logloss: 0.415396\tvalid_1's binary_logloss: 0.414054\n",
      "[LightGBM] [Info] Number of positive: 29545, number of negative: 105602\n",
      "[LightGBM] [Warning] Auto-choosing col-wise multi-threading, the overhead of testing was 0.006922 seconds.\n",
      "You can set `force_col_wise=true` to remove the overhead.\n",
      "[LightGBM] [Info] Total Bins 3546\n",
      "[LightGBM] [Info] Number of data points in the train set: 135147, number of used features: 40\n",
      "[LightGBM] [Info] [binary:BoostFromScore]: pavg=0.218614 -> initscore=-1.273763\n",
      "[LightGBM] [Info] Start training from score -1.273763\n",
      "Training until validation scores don't improve for 10 rounds\n"
     ]
    },
    {
     "name": "stderr",
     "output_type": "stream",
     "text": [
      "regularization_factors, val_score: 0.413998:  95%|#########5| 19/20 [00:11<00:00,  1.65it/s]\u001b[32m[I 2023-02-06 01:40:53,843]\u001b[0m Trial 61 finished with value: 0.4140001584300545 and parameters: {'lambda_l1': 1.4768607730758583e-05, 'lambda_l2': 1.32136819651286e-08}. Best is trial 58 with value: 0.4139981775415354.\u001b[0m\n",
      "regularization_factors, val_score: 0.413998:  95%|#########5| 19/20 [00:11<00:00,  1.65it/s]"
     ]
    },
    {
     "name": "stdout",
     "output_type": "stream",
     "text": [
      "[100]\tvalid_0's binary_logloss: 0.414482\tvalid_1's binary_logloss: 0.414052\n",
      "Early stopping, best iteration is:\n",
      "[90]\tvalid_0's binary_logloss: 0.414949\tvalid_1's binary_logloss: 0.414\n",
      "[LightGBM] [Info] Number of positive: 29545, number of negative: 105602\n",
      "[LightGBM] [Warning] Auto-choosing col-wise multi-threading, the overhead of testing was 0.007383 seconds.\n",
      "You can set `force_col_wise=true` to remove the overhead.\n",
      "[LightGBM] [Info] Total Bins 3546\n",
      "[LightGBM] [Info] Number of data points in the train set: 135147, number of used features: 40\n",
      "[LightGBM] [Info] [binary:BoostFromScore]: pavg=0.218614 -> initscore=-1.273763\n",
      "[LightGBM] [Info] Start training from score -1.273763\n",
      "Training until validation scores don't improve for 10 rounds\n"
     ]
    },
    {
     "name": "stderr",
     "output_type": "stream",
     "text": [
      "regularization_factors, val_score: 0.413998: 100%|##########| 20/20 [00:12<00:00,  1.62it/s]\u001b[32m[I 2023-02-06 01:40:54,481]\u001b[0m Trial 62 finished with value: 0.414000148238795 and parameters: {'lambda_l1': 0.00021242989535092324, 'lambda_l2': 4.0060674322261664e-05}. Best is trial 58 with value: 0.4139981775415354.\u001b[0m\n",
      "regularization_factors, val_score: 0.413998: 100%|##########| 20/20 [00:12<00:00,  1.61it/s]\n"
     ]
    },
    {
     "name": "stdout",
     "output_type": "stream",
     "text": [
      "[100]\tvalid_0's binary_logloss: 0.414482\tvalid_1's binary_logloss: 0.414052\n",
      "Early stopping, best iteration is:\n",
      "[90]\tvalid_0's binary_logloss: 0.414949\tvalid_1's binary_logloss: 0.414\n"
     ]
    },
    {
     "name": "stderr",
     "output_type": "stream",
     "text": [
      "min_data_in_leaf, val_score: 0.413998:   0%|          | 0/5 [00:00<?, ?it/s]"
     ]
    },
    {
     "name": "stdout",
     "output_type": "stream",
     "text": [
      "[LightGBM] [Info] Number of positive: 29545, number of negative: 105602\n",
      "[LightGBM] [Warning] Auto-choosing col-wise multi-threading, the overhead of testing was 0.007227 seconds.\n",
      "You can set `force_col_wise=true` to remove the overhead.\n",
      "[LightGBM] [Info] Total Bins 3546\n",
      "[LightGBM] [Info] Number of data points in the train set: 135147, number of used features: 40\n",
      "[LightGBM] [Info] [binary:BoostFromScore]: pavg=0.218614 -> initscore=-1.273763\n",
      "[LightGBM] [Info] Start training from score -1.273763\n",
      "Training until validation scores don't improve for 10 rounds\n"
     ]
    },
    {
     "name": "stderr",
     "output_type": "stream",
     "text": [
      "min_data_in_leaf, val_score: 0.413998:  20%|##        | 1/5 [00:00<00:02,  1.86it/s]\u001b[32m[I 2023-02-06 01:40:55,025]\u001b[0m Trial 63 finished with value: 0.41407128265371496 and parameters: {'min_child_samples': 10}. Best is trial 63 with value: 0.41407128265371496.\u001b[0m\n",
      "min_data_in_leaf, val_score: 0.413998:  20%|##        | 1/5 [00:00<00:02,  1.86it/s]"
     ]
    },
    {
     "name": "stdout",
     "output_type": "stream",
     "text": [
      "Early stopping, best iteration is:\n",
      "[81]\tvalid_0's binary_logloss: 0.415255\tvalid_1's binary_logloss: 0.414071\n",
      "[LightGBM] [Info] Number of positive: 29545, number of negative: 105602\n",
      "[LightGBM] [Warning] Auto-choosing row-wise multi-threading, the overhead of testing was 0.001379 seconds.\n",
      "You can set `force_row_wise=true` to remove the overhead.\n",
      "And if memory is not enough, you can set `force_col_wise=true`.\n",
      "[LightGBM] [Info] Total Bins 3546\n",
      "[LightGBM] [Info] Number of data points in the train set: 135147, number of used features: 40\n",
      "[LightGBM] [Info] [binary:BoostFromScore]: pavg=0.218614 -> initscore=-1.273763\n",
      "[LightGBM] [Info] Start training from score -1.273763\n",
      "Training until validation scores don't improve for 10 rounds\n"
     ]
    },
    {
     "name": "stderr",
     "output_type": "stream",
     "text": [
      "min_data_in_leaf, val_score: 0.413998:  40%|####      | 2/5 [00:01<00:01,  1.71it/s]\u001b[32m[I 2023-02-06 01:40:55,645]\u001b[0m Trial 64 finished with value: 0.4141486960712841 and parameters: {'min_child_samples': 100}. Best is trial 63 with value: 0.41407128265371496.\u001b[0m\n",
      "min_data_in_leaf, val_score: 0.413998:  40%|####      | 2/5 [00:01<00:01,  1.71it/s]"
     ]
    },
    {
     "name": "stdout",
     "output_type": "stream",
     "text": [
      "[100]\tvalid_0's binary_logloss: 0.414769\tvalid_1's binary_logloss: 0.4142\n",
      "Early stopping, best iteration is:\n",
      "[91]\tvalid_0's binary_logloss: 0.415131\tvalid_1's binary_logloss: 0.414149\n",
      "[LightGBM] [Info] Number of positive: 29545, number of negative: 105602\n",
      "[LightGBM] [Warning] Auto-choosing col-wise multi-threading, the overhead of testing was 0.008733 seconds.\n",
      "You can set `force_col_wise=true` to remove the overhead.\n",
      "[LightGBM] [Info] Total Bins 3546\n",
      "[LightGBM] [Info] Number of data points in the train set: 135147, number of used features: 40\n",
      "[LightGBM] [Info] [binary:BoostFromScore]: pavg=0.218614 -> initscore=-1.273763\n",
      "[LightGBM] [Info] Start training from score -1.273763\n",
      "Training until validation scores don't improve for 10 rounds\n"
     ]
    },
    {
     "name": "stderr",
     "output_type": "stream",
     "text": [
      "min_data_in_leaf, val_score: 0.413998:  60%|######    | 3/5 [00:01<00:01,  1.56it/s]\u001b[32m[I 2023-02-06 01:40:56,351]\u001b[0m Trial 65 finished with value: 0.4140346958283987 and parameters: {'min_child_samples': 50}. Best is trial 65 with value: 0.4140346958283987.\u001b[0m\n",
      "min_data_in_leaf, val_score: 0.413998:  60%|######    | 3/5 [00:01<00:01,  1.56it/s]"
     ]
    },
    {
     "name": "stdout",
     "output_type": "stream",
     "text": [
      "[100]\tvalid_0's binary_logloss: 0.414603\tvalid_1's binary_logloss: 0.414109\n",
      "Early stopping, best iteration is:\n",
      "[117]\tvalid_0's binary_logloss: 0.413857\tvalid_1's binary_logloss: 0.414035\n",
      "[LightGBM] [Info] Number of positive: 29545, number of negative: 105602\n",
      "[LightGBM] [Warning] Auto-choosing col-wise multi-threading, the overhead of testing was 0.006625 seconds.\n",
      "You can set `force_col_wise=true` to remove the overhead.\n",
      "[LightGBM] [Info] Total Bins 3546\n",
      "[LightGBM] [Info] Number of data points in the train set: 135147, number of used features: 40\n",
      "[LightGBM] [Info] [binary:BoostFromScore]: pavg=0.218614 -> initscore=-1.273763\n",
      "[LightGBM] [Info] Start training from score -1.273763\n",
      "Training until validation scores don't improve for 10 rounds\n"
     ]
    },
    {
     "name": "stderr",
     "output_type": "stream",
     "text": [
      "min_data_in_leaf, val_score: 0.413998:  80%|########  | 4/5 [00:02<00:00,  1.63it/s]\u001b[32m[I 2023-02-06 01:40:56,922]\u001b[0m Trial 66 finished with value: 0.4140294592961336 and parameters: {'min_child_samples': 25}. Best is trial 66 with value: 0.4140294592961336.\u001b[0m\n",
      "min_data_in_leaf, val_score: 0.413998:  80%|########  | 4/5 [00:02<00:00,  1.63it/s]"
     ]
    },
    {
     "name": "stdout",
     "output_type": "stream",
     "text": [
      "[100]\tvalid_0's binary_logloss: 0.414604\tvalid_1's binary_logloss: 0.41405\n",
      "Early stopping, best iteration is:\n",
      "[90]\tvalid_0's binary_logloss: 0.415028\tvalid_1's binary_logloss: 0.414029\n",
      "[LightGBM] [Info] Number of positive: 29545, number of negative: 105602\n",
      "[LightGBM] [Warning] Auto-choosing col-wise multi-threading, the overhead of testing was 0.008505 seconds.\n",
      "You can set `force_col_wise=true` to remove the overhead.\n",
      "[LightGBM] [Info] Total Bins 3546\n",
      "[LightGBM] [Info] Number of data points in the train set: 135147, number of used features: 40\n",
      "[LightGBM] [Info] [binary:BoostFromScore]: pavg=0.218614 -> initscore=-1.273763\n",
      "[LightGBM] [Info] Start training from score -1.273763\n",
      "Training until validation scores don't improve for 10 rounds\n"
     ]
    },
    {
     "name": "stderr",
     "output_type": "stream",
     "text": [
      "min_data_in_leaf, val_score: 0.413998: 100%|##########| 5/5 [00:02<00:00,  1.70it/s]\u001b[32m[I 2023-02-06 01:40:57,465]\u001b[0m Trial 67 finished with value: 0.4140905156936827 and parameters: {'min_child_samples': 5}. Best is trial 66 with value: 0.4140294592961336.\u001b[0m\n",
      "min_data_in_leaf, val_score: 0.413998: 100%|##########| 5/5 [00:02<00:00,  1.68it/s]"
     ]
    },
    {
     "name": "stdout",
     "output_type": "stream",
     "text": [
      "Early stopping, best iteration is:\n",
      "[81]\tvalid_0's binary_logloss: 0.415252\tvalid_1's binary_logloss: 0.414091\n"
     ]
    },
    {
     "name": "stderr",
     "output_type": "stream",
     "text": [
      "\n"
     ]
    }
   ],
   "source": [
    "#データセットを作成\n",
    "lgb_train = lgb_o.Dataset(X_train.values, y_train.values)\n",
    "lgb_valid = lgb_o.Dataset(X_valid.values, y_valid.values)\n",
    "\n",
    "params = {\n",
    "    'objective': 'binary', #二値予測の場合はbinary\n",
    "    'random_state': 100\n",
    "}\n",
    "\n",
    "#チューニング実行\n",
    "lgb_clf_o = lgb_o.train(params, lgb_train,\n",
    "                        valid_sets=(lgb_train, lgb_valid),\n",
    "                        verbose_eval=100,\n",
    "                        early_stopping_rounds=10,\n",
    "                        optuna_seed=100\n",
    "                        )"
   ]
  },
  {
   "cell_type": "code",
   "execution_count": 13,
   "metadata": {},
   "outputs": [
    {
     "data": {
      "text/plain": [
       "{'objective': 'binary',\n",
       " 'random_state': 100,\n",
       " 'feature_pre_filter': False,\n",
       " 'lambda_l1': 3.776149197088745e-05,\n",
       " 'lambda_l2': 0.009458177602015108,\n",
       " 'num_leaves': 9,\n",
       " 'feature_fraction': 0.7,\n",
       " 'bagging_fraction': 0.802449450836738,\n",
       " 'bagging_freq': 6,\n",
       " 'min_child_samples': 20,\n",
       " 'num_iterations': 1000,\n",
       " 'early_stopping_round': 10}"
      ]
     },
     "execution_count": 13,
     "metadata": {},
     "output_type": "execute_result"
    }
   ],
   "source": [
    "lgb_clf_o.params"
   ]
  },
  {
   "cell_type": "code",
   "execution_count": 14,
   "metadata": {},
   "outputs": [],
   "source": [
    "params ={'objective': 'binary',\n",
    " 'random_state': 100,\n",
    " 'feature_pre_filter': False,\n",
    " 'lambda_l1': 9.490245203532942e-07,\n",
    " 'lambda_l2': 6.421168438428032,\n",
    " 'num_leaves': 9,\n",
    " 'feature_fraction': 0.7,\n",
    " 'bagging_fraction': 1.0,\n",
    " 'bagging_freq': 0,\n",
    " 'min_child_samples': 20,\n",
    " 'num_iterations': 1000,}"
   ]
  },
  {
   "cell_type": "code",
   "execution_count": 15,
   "metadata": {},
   "outputs": [
    {
     "name": "stderr",
     "output_type": "stream",
     "text": [
      "c:\\keiba\\keiba\\env\\lib\\site-packages\\lightgbm\\engine.py:177: UserWarning: Found `num_iterations` in params. Will use it instead of argument\n",
      "  _log_warning(f\"Found `{alias}` in params. Will use it instead of argument\")\n"
     ]
    },
    {
     "name": "stdout",
     "output_type": "stream",
     "text": [
      "[LightGBM] [Warning] feature_fraction is set=0.7, colsample_bytree=1.0 will be ignored. Current value: feature_fraction=0.7\n",
      "[LightGBM] [Warning] bagging_fraction is set=1.0, subsample=1.0 will be ignored. Current value: bagging_fraction=1.0\n",
      "[LightGBM] [Warning] lambda_l1 is set=9.490245203532942e-07, reg_alpha=0.0 will be ignored. Current value: lambda_l1=9.490245203532942e-07\n",
      "[LightGBM] [Warning] lambda_l2 is set=6.421168438428032, reg_lambda=0.0 will be ignored. Current value: lambda_l2=6.421168438428032\n",
      "[LightGBM] [Warning] bagging_freq is set=0, subsample_freq=0 will be ignored. Current value: bagging_freq=0\n"
     ]
    }
   ],
   "source": [
    "# 人気のデータあり\n",
    "lgb_clf = lgb.LGBMClassifier(**params)\n",
    "lgb_clf.fit(X_train.values, y_train.values)\n",
    "file = 'model/dangerous_dev.pkl'\n",
    "pickle.dump(lgb_clf, open(file, 'wb'))"
   ]
  },
  {
   "attachments": {},
   "cell_type": "markdown",
   "metadata": {},
   "source": [
    "### 精度検証"
   ]
  },
  {
   "attachments": {},
   "cell_type": "markdown",
   "metadata": {},
   "source": [
    "三着以内に入る確率を予想"
   ]
  },
  {
   "cell_type": "code",
   "execution_count": 16,
   "metadata": {},
   "outputs": [],
   "source": [
    "proba = simulation.predict_proba(lgb_clf, X_valid)\n",
    "tansho_df = preprocessing.tansho_preprocessing(return_table)\n",
    "pred_table = simulation.pred_table(proba, valid, tansho_df)"
   ]
  },
  {
   "cell_type": "code",
   "execution_count": 17,
   "metadata": {},
   "outputs": [
    {
     "data": {
      "text/html": [
       "<div>\n",
       "<style scoped>\n",
       "    .dataframe tbody tr th:only-of-type {\n",
       "        vertical-align: middle;\n",
       "    }\n",
       "\n",
       "    .dataframe tbody tr th {\n",
       "        vertical-align: top;\n",
       "    }\n",
       "\n",
       "    .dataframe thead th {\n",
       "        text-align: right;\n",
       "    }\n",
       "</style>\n",
       "<table border=\"1\" class=\"dataframe\">\n",
       "  <thead>\n",
       "    <tr style=\"text-align: right;\">\n",
       "      <th></th>\n",
       "      <th>着順</th>\n",
       "      <th>人気</th>\n",
       "      <th>馬番</th>\n",
       "      <th>proba</th>\n",
       "      <th>win</th>\n",
       "      <th>return</th>\n",
       "    </tr>\n",
       "  </thead>\n",
       "  <tbody>\n",
       "    <tr>\n",
       "      <th>202103020201</th>\n",
       "      <td>1</td>\n",
       "      <td>5.0</td>\n",
       "      <td>6</td>\n",
       "      <td>0.384075</td>\n",
       "      <td>6.0</td>\n",
       "      <td>1640.0</td>\n",
       "    </tr>\n",
       "    <tr>\n",
       "      <th>202103020201</th>\n",
       "      <td>2</td>\n",
       "      <td>7.0</td>\n",
       "      <td>13</td>\n",
       "      <td>0.346790</td>\n",
       "      <td>6.0</td>\n",
       "      <td>1640.0</td>\n",
       "    </tr>\n",
       "    <tr>\n",
       "      <th>202103020201</th>\n",
       "      <td>3</td>\n",
       "      <td>1.0</td>\n",
       "      <td>7</td>\n",
       "      <td>0.797231</td>\n",
       "      <td>6.0</td>\n",
       "      <td>1640.0</td>\n",
       "    </tr>\n",
       "    <tr>\n",
       "      <th>202103020201</th>\n",
       "      <td>4</td>\n",
       "      <td>2.0</td>\n",
       "      <td>14</td>\n",
       "      <td>0.679910</td>\n",
       "      <td>6.0</td>\n",
       "      <td>1640.0</td>\n",
       "    </tr>\n",
       "    <tr>\n",
       "      <th>202103020201</th>\n",
       "      <td>5</td>\n",
       "      <td>6.0</td>\n",
       "      <td>11</td>\n",
       "      <td>0.372679</td>\n",
       "      <td>6.0</td>\n",
       "      <td>1640.0</td>\n",
       "    </tr>\n",
       "    <tr>\n",
       "      <th>...</th>\n",
       "      <td>...</td>\n",
       "      <td>...</td>\n",
       "      <td>...</td>\n",
       "      <td>...</td>\n",
       "      <td>...</td>\n",
       "      <td>...</td>\n",
       "    </tr>\n",
       "    <tr>\n",
       "      <th>202310010412</th>\n",
       "      <td>12</td>\n",
       "      <td>12.0</td>\n",
       "      <td>8</td>\n",
       "      <td>0.217667</td>\n",
       "      <td>15.0</td>\n",
       "      <td>630.0</td>\n",
       "    </tr>\n",
       "    <tr>\n",
       "      <th>202310010412</th>\n",
       "      <td>13</td>\n",
       "      <td>1.0</td>\n",
       "      <td>13</td>\n",
       "      <td>0.796468</td>\n",
       "      <td>15.0</td>\n",
       "      <td>630.0</td>\n",
       "    </tr>\n",
       "    <tr>\n",
       "      <th>202310010412</th>\n",
       "      <td>14</td>\n",
       "      <td>10.0</td>\n",
       "      <td>12</td>\n",
       "      <td>0.221960</td>\n",
       "      <td>15.0</td>\n",
       "      <td>630.0</td>\n",
       "    </tr>\n",
       "    <tr>\n",
       "      <th>202310010412</th>\n",
       "      <td>15</td>\n",
       "      <td>7.0</td>\n",
       "      <td>3</td>\n",
       "      <td>0.391126</td>\n",
       "      <td>15.0</td>\n",
       "      <td>630.0</td>\n",
       "    </tr>\n",
       "    <tr>\n",
       "      <th>202310010412</th>\n",
       "      <td>16</td>\n",
       "      <td>15.0</td>\n",
       "      <td>11</td>\n",
       "      <td>0.160795</td>\n",
       "      <td>15.0</td>\n",
       "      <td>630.0</td>\n",
       "    </tr>\n",
       "  </tbody>\n",
       "</table>\n",
       "<p>57533 rows × 6 columns</p>\n",
       "</div>"
      ],
      "text/plain": [
       "              着順    人気  馬番     proba   win  return\n",
       "202103020201   1   5.0   6  0.384075   6.0  1640.0\n",
       "202103020201   2   7.0  13  0.346790   6.0  1640.0\n",
       "202103020201   3   1.0   7  0.797231   6.0  1640.0\n",
       "202103020201   4   2.0  14  0.679910   6.0  1640.0\n",
       "202103020201   5   6.0  11  0.372679   6.0  1640.0\n",
       "...           ..   ...  ..       ...   ...     ...\n",
       "202310010412  12  12.0   8  0.217667  15.0   630.0\n",
       "202310010412  13   1.0  13  0.796468  15.0   630.0\n",
       "202310010412  14  10.0  12  0.221960  15.0   630.0\n",
       "202310010412  15   7.0   3  0.391126  15.0   630.0\n",
       "202310010412  16  15.0  11  0.160795  15.0   630.0\n",
       "\n",
       "[57533 rows x 6 columns]"
      ]
     },
     "execution_count": 17,
     "metadata": {},
     "output_type": "execute_result"
    }
   ],
   "source": [
    "pred_table"
   ]
  },
  {
   "cell_type": "code",
   "execution_count": 18,
   "metadata": {},
   "outputs": [
    {
     "data": {
      "text/plain": [
       "<AxesSubplot: >"
      ]
     },
     "execution_count": 18,
     "metadata": {},
     "output_type": "execute_result"
    },
    {
     "data": {
      "image/png": "[encoded data removed]",
      "text/plain": [
       "<Figure size 640x480 with 1 Axes>"
      ]
     },
     "metadata": {},
     "output_type": "display_data"
    }
   ],
   "source": [
    "# 同レースで期待値が1番高い馬にかけた時の期待値(単勝)\n",
    "gain = simulation.same_race_return_bets(pred_table)\n",
    "gain.plot()"
   ]
  },
  {
   "cell_type": "code",
   "execution_count": 19,
   "metadata": {},
   "outputs": [
    {
     "data": {
      "text/plain": [
       "<AxesSubplot: >"
      ]
     },
     "execution_count": 19,
     "metadata": {},
     "output_type": "execute_result"
    },
    {
     "data": {
      "image/png": "[encoded data removed]",
      "text/plain": [
       "<Figure size 640x480 with 1 Axes>"
      ]
     },
     "metadata": {},
     "output_type": "display_data"
    }
   ],
   "source": [
    "# 期待値がthreshold以上の馬にかけた時の期待値(単勝)\n",
    "gain = simulation.race_return_bets(pred_table)\n",
    "gain.plot()"
   ]
  },
  {
   "cell_type": "code",
   "execution_count": 20,
   "metadata": {},
   "outputs": [
    {
     "data": {
      "text/plain": [
       "<AxesSubplot: >"
      ]
     },
     "execution_count": 20,
     "metadata": {},
     "output_type": "execute_result"
    },
    {
     "data": {
      "image/png": "[encoded data removed]",
      "text/plain": [
       "<Figure size 640x480 with 1 Axes>"
      ]
     },
     "metadata": {},
     "output_type": "display_data"
    }
   ],
   "source": [
    "# 人気が３位以内ではない馬にかけた時の期待値\n",
    "gain = simulation.race_return_not_popular_bets(pred_table)\n",
    "gain.plot()"
   ]
  },
  {
   "attachments": {},
   "cell_type": "markdown",
   "metadata": {},
   "source": [
    "## 本番用のモデルを保存"
   ]
  },
  {
   "cell_type": "code",
   "execution_count": 21,
   "metadata": {},
   "outputs": [
    {
     "name": "stderr",
     "output_type": "stream",
     "text": [
      "c:\\keiba\\keiba\\env\\lib\\site-packages\\lightgbm\\engine.py:177: UserWarning: Found `num_iterations` in params. Will use it instead of argument\n",
      "  _log_warning(f\"Found `{alias}` in params. Will use it instead of argument\")\n"
     ]
    },
    {
     "name": "stdout",
     "output_type": "stream",
     "text": [
      "[LightGBM] [Warning] feature_fraction is set=0.7, colsample_bytree=1.0 will be ignored. Current value: feature_fraction=0.7\n",
      "[LightGBM] [Warning] bagging_fraction is set=1.0, subsample=1.0 will be ignored. Current value: bagging_fraction=1.0\n",
      "[LightGBM] [Warning] lambda_l1 is set=9.490245203532942e-07, reg_alpha=0.0 will be ignored. Current value: lambda_l1=9.490245203532942e-07\n",
      "[LightGBM] [Warning] lambda_l2 is set=6.421168438428032, reg_lambda=0.0 will be ignored. Current value: lambda_l2=6.421168438428032\n",
      "[LightGBM] [Warning] bagging_freq is set=0, subsample_freq=0 will be ignored. Current value: bagging_freq=0\n"
     ]
    }
   ],
   "source": [
    "X_all_data = d_race_results.drop(['rank', 'date', \"着順\", \"単勝\"], axis=1)\n",
    "y_all_data = d_race_results[\"rank\"]\n",
    "# 人気のデータあり\n",
    "lgb_clf = lgb.LGBMClassifier(**params)\n",
    "lgb_clf.fit(X_all_data.values, y_all_data.values)\n",
    "file = 'model/dangerous_pred.pkl'\n",
    "pickle.dump(lgb_clf, open(file, 'wb'))"
   ]
  }
 ],
 "metadata": {
  "kernelspec": {
   "display_name": "env",
   "language": "python",
   "name": "python3"
  },
  "language_info": {
   "codemirror_mode": {
    "name": "ipython",
    "version": 3
   },
   "file_extension": ".py",
   "mimetype": "text/x-python",
   "name": "python",
   "nbconvert_exporter": "python",
   "pygments_lexer": "ipython3",
   "version": "3.9.10"
  },
  "orig_nbformat": 4,
  "vscode": {
   "interpreter": {
    "hash": "260aede9e9e79cbbceaccab57791e2d36a7e921c0e25c9eaac9ba718a2540e72"
   }
  }
 },
 "nbformat": 4,
 "nbformat_minor": 2
}
