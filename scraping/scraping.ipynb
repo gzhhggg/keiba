{
 "cells": [
  {
   "cell_type": "code",
   "execution_count": 1,
   "metadata": {},
   "outputs": [],
   "source": [
    "import pandas as pd\n",
    "import keiba_scraping\n",
    "import datetime"
   ]
  },
  {
   "attachments": {},
   "cell_type": "markdown",
   "metadata": {},
   "source": [
    "#### レース結果を取得する場合\n",
    "race_idを用意して「race_results」関数で結果を取得"
   ]
  },
  {
   "cell_type": "code",
   "execution_count": 4,
   "metadata": {},
   "outputs": [],
   "source": [
    "race_id_list = [\"202206050701\",\"202209060801\"]\n",
    "df = keiba_scraping.race_results(race_id_list)"
   ]
  },
  {
   "attachments": {},
   "cell_type": "markdown",
   "metadata": {},
   "source": [
    "#### ホース結果を取得する場合\n",
    "レース結果からhorse_idを取得して「horse_results」関数で結果を取得"
   ]
  },
  {
   "cell_type": "code",
   "execution_count": 5,
   "metadata": {},
   "outputs": [
    {
     "data": {
      "application/vnd.jupyter.widget-view+json": {
       "model_id": "9ea5cd0ad36a41b58df2110139f288ba",
       "version_major": 2,
       "version_minor": 0
      },
      "text/plain": [
       "  0%|          | 0/1 [00:00<?, ?it/s]"
      ]
     },
     "metadata": {},
     "output_type": "display_data"
    }
   ],
   "source": [
    "horse_id_list = [\"2019103705\"]\n",
    "horse_df = keiba_scraping.horse_results(horse_id_list)"
   ]
  },
  {
   "attachments": {},
   "cell_type": "markdown",
   "metadata": {},
   "source": [
    "#### 払い戻しを取得する場合\n",
    "race_idを用意して「return_results」関数で結果を取得"
   ]
  },
  {
   "cell_type": "code",
   "execution_count": 13,
   "metadata": {},
   "outputs": [
    {
     "data": {
      "application/vnd.jupyter.widget-view+json": {
       "model_id": "4c02b7a968e04837b75416581accb1bd",
       "version_major": 2,
       "version_minor": 0
      },
      "text/plain": [
       "  0%|          | 0/2 [00:00<?, ?it/s]"
      ]
     },
     "metadata": {},
     "output_type": "display_data"
    }
   ],
   "source": [
    "df_return = keiba_scraping.return_results(race_id_list)"
   ]
  },
  {
   "attachments": {},
   "cell_type": "markdown",
   "metadata": {},
   "source": [
    "#### データを更新する\n",
    "新しくデータをスクレイピングした場合は、update_dataを使って更新する\n",
    "\n",
    "## 注意事項\n",
    "連結するときにカラム名や型が変わっていると、カラム数が増える！！\n",
    "concat後にカラム数を確認する"
   ]
  },
  {
   "cell_type": "code",
   "execution_count": 8,
   "metadata": {},
   "outputs": [],
   "source": [
    "def update_data(old, new):\n",
    "    \"\"\"\n",
    "    Parameters:\n",
    "    ----------\n",
    "    old : pandas.DataFrame\n",
    "        古いデータ\n",
    "    new : pandas.DataFrame\n",
    "        新しいデータ\n",
    "    \"\"\"\n",
    "    print(\"old_shape {}\".format(old.shape))\n",
    "    print(\"new_shape {}\".format(new.shape))\n",
    "    new.columns = old.columns\n",
    "    filtered_old = old[~old.index.isin(new.index)]\n",
    "    df_m = pd.concat([filtered_old, new])\n",
    "    print(\"merge_shape {}\".format(df_m.shape))\n",
    "    return df_m"
   ]
  },
  {
   "cell_type": "code",
   "execution_count": 6,
   "metadata": {},
   "outputs": [],
   "source": [
    "old_df = pd.read_pickle(\"../data/original_data/horse_results.pickle\")"
   ]
  },
  {
   "cell_type": "code",
   "execution_count": 7,
   "metadata": {},
   "outputs": [
    {
     "data": {
      "text/html": [
       "<div>\n",
       "<style scoped>\n",
       "    .dataframe tbody tr th:only-of-type {\n",
       "        vertical-align: middle;\n",
       "    }\n",
       "\n",
       "    .dataframe tbody tr th {\n",
       "        vertical-align: top;\n",
       "    }\n",
       "\n",
       "    .dataframe thead th {\n",
       "        text-align: right;\n",
       "    }\n",
       "</style>\n",
       "<table border=\"1\" class=\"dataframe\">\n",
       "  <thead>\n",
       "    <tr style=\"text-align: right;\">\n",
       "      <th></th>\n",
       "      <th>日付</th>\n",
       "      <th>開催</th>\n",
       "      <th>天 気</th>\n",
       "      <th>R</th>\n",
       "      <th>レース名</th>\n",
       "      <th>映 像</th>\n",
       "      <th>頭 数</th>\n",
       "      <th>枠 番</th>\n",
       "      <th>馬 番</th>\n",
       "      <th>オ ッ ズ</th>\n",
       "      <th>...</th>\n",
       "      <th>着差</th>\n",
       "      <th>ﾀｲﾑ 指数</th>\n",
       "      <th>通過</th>\n",
       "      <th>ペース</th>\n",
       "      <th>上り</th>\n",
       "      <th>馬体重</th>\n",
       "      <th>厩舎 ｺﾒﾝﾄ</th>\n",
       "      <th>備考</th>\n",
       "      <th>勝ち馬 (2着馬)</th>\n",
       "      <th>賞金</th>\n",
       "    </tr>\n",
       "  </thead>\n",
       "  <tbody>\n",
       "    <tr>\n",
       "      <th>2019103705</th>\n",
       "      <td>2022/05/12</td>\n",
       "      <td>園田</td>\n",
       "      <td>雨</td>\n",
       "      <td>11</td>\n",
       "      <td>のじぎく賞(G)</td>\n",
       "      <td>NaN</td>\n",
       "      <td>12</td>\n",
       "      <td>2</td>\n",
       "      <td>2</td>\n",
       "      <td>21.0</td>\n",
       "      <td>...</td>\n",
       "      <td>2.4</td>\n",
       "      <td>**</td>\n",
       "      <td>1-1-1-2</td>\n",
       "      <td>0.0-40.2</td>\n",
       "      <td>42.6</td>\n",
       "      <td>497(+9)</td>\n",
       "      <td>NaN</td>\n",
       "      <td>NaN</td>\n",
       "      <td>ニネンビーグミ</td>\n",
       "      <td>NaN</td>\n",
       "    </tr>\n",
       "    <tr>\n",
       "      <th>2019103705</th>\n",
       "      <td>2022/04/21</td>\n",
       "      <td>名古屋</td>\n",
       "      <td>雨</td>\n",
       "      <td>11</td>\n",
       "      <td>東海クイーンC(G)</td>\n",
       "      <td>NaN</td>\n",
       "      <td>12</td>\n",
       "      <td>6</td>\n",
       "      <td>8</td>\n",
       "      <td>23.8</td>\n",
       "      <td>...</td>\n",
       "      <td>2.3</td>\n",
       "      <td>**</td>\n",
       "      <td>7-7-6</td>\n",
       "      <td>0.0-40.1</td>\n",
       "      <td>41.7</td>\n",
       "      <td>488(+3)</td>\n",
       "      <td>NaN</td>\n",
       "      <td>NaN</td>\n",
       "      <td>グラーツィア</td>\n",
       "      <td>NaN</td>\n",
       "    </tr>\n",
       "    <tr>\n",
       "      <th>2019103705</th>\n",
       "      <td>2022/03/23</td>\n",
       "      <td>園田</td>\n",
       "      <td>曇</td>\n",
       "      <td>7</td>\n",
       "      <td>3歳AB</td>\n",
       "      <td>NaN</td>\n",
       "      <td>6</td>\n",
       "      <td>6</td>\n",
       "      <td>6</td>\n",
       "      <td>2.9</td>\n",
       "      <td>...</td>\n",
       "      <td>0.0</td>\n",
       "      <td>**</td>\n",
       "      <td>1-1-1-1</td>\n",
       "      <td>0.0-40.7</td>\n",
       "      <td>40.7</td>\n",
       "      <td>485(0)</td>\n",
       "      <td>NaN</td>\n",
       "      <td>NaN</td>\n",
       "      <td>キングレジェンド</td>\n",
       "      <td>52.0</td>\n",
       "    </tr>\n",
       "    <tr>\n",
       "      <th>2019103705</th>\n",
       "      <td>2022/02/24</td>\n",
       "      <td>姫路</td>\n",
       "      <td>晴</td>\n",
       "      <td>11</td>\n",
       "      <td>兵庫3歳牝馬特別</td>\n",
       "      <td>NaN</td>\n",
       "      <td>8</td>\n",
       "      <td>5</td>\n",
       "      <td>5</td>\n",
       "      <td>1.6</td>\n",
       "      <td>...</td>\n",
       "      <td>-0.3</td>\n",
       "      <td>**</td>\n",
       "      <td>1-1-1-1</td>\n",
       "      <td>0.0-39.4</td>\n",
       "      <td>39.4</td>\n",
       "      <td>485(+2)</td>\n",
       "      <td>NaN</td>\n",
       "      <td>NaN</td>\n",
       "      <td>(ベラジオミキ)</td>\n",
       "      <td>200.0</td>\n",
       "    </tr>\n",
       "    <tr>\n",
       "      <th>2019103705</th>\n",
       "      <td>2022/01/20</td>\n",
       "      <td>姫路</td>\n",
       "      <td>晴</td>\n",
       "      <td>11</td>\n",
       "      <td>兵庫クイーンセレクシ(G)</td>\n",
       "      <td>NaN</td>\n",
       "      <td>12</td>\n",
       "      <td>6</td>\n",
       "      <td>8</td>\n",
       "      <td>10.7</td>\n",
       "      <td>...</td>\n",
       "      <td>0.6</td>\n",
       "      <td>**</td>\n",
       "      <td>2-2-2-4</td>\n",
       "      <td>0.0-39.9</td>\n",
       "      <td>40.5</td>\n",
       "      <td>483(-2)</td>\n",
       "      <td>NaN</td>\n",
       "      <td>NaN</td>\n",
       "      <td>ニネンビーグミ</td>\n",
       "      <td>NaN</td>\n",
       "    </tr>\n",
       "    <tr>\n",
       "      <th>2019103705</th>\n",
       "      <td>2021/12/21</td>\n",
       "      <td>園田</td>\n",
       "      <td>曇</td>\n",
       "      <td>2</td>\n",
       "      <td>2歳初出走</td>\n",
       "      <td>NaN</td>\n",
       "      <td>8</td>\n",
       "      <td>6</td>\n",
       "      <td>6</td>\n",
       "      <td>8.2</td>\n",
       "      <td>...</td>\n",
       "      <td>-0.6</td>\n",
       "      <td>**</td>\n",
       "      <td>1-1-1-1</td>\n",
       "      <td>0.0-39.9</td>\n",
       "      <td>39.9</td>\n",
       "      <td>485(0)</td>\n",
       "      <td>NaN</td>\n",
       "      <td>NaN</td>\n",
       "      <td>(スティーブボス)</td>\n",
       "      <td>230.0</td>\n",
       "    </tr>\n",
       "  </tbody>\n",
       "</table>\n",
       "<p>6 rows × 28 columns</p>\n",
       "</div>"
      ],
      "text/plain": [
       "                    日付   開催 天 気   R           レース名  映 像  頭 数  枠 番  馬 番  オ ッ ズ  \\\n",
       "2019103705  2022/05/12   園田   雨  11       のじぎく賞(G)  NaN   12    2    2   21.0   \n",
       "2019103705  2022/04/21  名古屋   雨  11     東海クイーンC(G)  NaN   12    6    8   23.8   \n",
       "2019103705  2022/03/23   園田   曇   7           3歳AB  NaN    6    6    6    2.9   \n",
       "2019103705  2022/02/24   姫路   晴  11       兵庫3歳牝馬特別  NaN    8    5    5    1.6   \n",
       "2019103705  2022/01/20   姫路   晴  11  兵庫クイーンセレクシ(G)  NaN   12    6    8   10.7   \n",
       "2019103705  2021/12/21   園田   曇   2          2歳初出走  NaN    8    6    6    8.2   \n",
       "\n",
       "            ...   着差  ﾀｲﾑ 指数       通過       ペース    上り      馬体重 厩舎 ｺﾒﾝﾄ  備考  \\\n",
       "2019103705  ...  2.4      **  1-1-1-2  0.0-40.2  42.6  497(+9)     NaN NaN   \n",
       "2019103705  ...  2.3      **    7-7-6  0.0-40.1  41.7  488(+3)     NaN NaN   \n",
       "2019103705  ...  0.0      **  1-1-1-1  0.0-40.7  40.7   485(0)     NaN NaN   \n",
       "2019103705  ... -0.3      **  1-1-1-1  0.0-39.4  39.4  485(+2)     NaN NaN   \n",
       "2019103705  ...  0.6      **  2-2-2-4  0.0-39.9  40.5  483(-2)     NaN NaN   \n",
       "2019103705  ... -0.6      **  1-1-1-1  0.0-39.9  39.9   485(0)     NaN NaN   \n",
       "\n",
       "            勝ち馬 (2着馬)     賞金  \n",
       "2019103705    ニネンビーグミ    NaN  \n",
       "2019103705     グラーツィア    NaN  \n",
       "2019103705   キングレジェンド   52.0  \n",
       "2019103705   (ベラジオミキ)  200.0  \n",
       "2019103705    ニネンビーグミ    NaN  \n",
       "2019103705  (スティーブボス)  230.0  \n",
       "\n",
       "[6 rows x 28 columns]"
      ]
     },
     "execution_count": 7,
     "metadata": {},
     "output_type": "execute_result"
    }
   ],
   "source": [
    "horse_df"
   ]
  },
  {
   "cell_type": "code",
   "execution_count": 9,
   "metadata": {},
   "outputs": [
    {
     "name": "stdout",
     "output_type": "stream",
     "text": [
      "old_shape (462850, 28)\n",
      "new_shape (6, 28)\n",
      "merge_shape (462856, 28)\n"
     ]
    }
   ],
   "source": [
    "df_m = update_data(old_df, horse_df)"
   ]
  },
  {
   "cell_type": "code",
   "execution_count": 10,
   "metadata": {},
   "outputs": [],
   "source": [
    "df_m.to_pickle(\"../data/original_data/horse_results.pickle\")"
   ]
  },
  {
   "cell_type": "code",
   "execution_count": null,
   "metadata": {},
   "outputs": [],
   "source": []
  }
 ],
 "metadata": {
  "kernelspec": {
   "display_name": "env",
   "language": "python",
   "name": "python3"
  },
  "language_info": {
   "codemirror_mode": {
    "name": "ipython",
    "version": 3
   },
   "file_extension": ".py",
   "mimetype": "text/x-python",
   "name": "python",
   "nbconvert_exporter": "python",
   "pygments_lexer": "ipython3",
   "version": "3.9.10"
  },
  "orig_nbformat": 4,
  "vscode": {
   "interpreter": {
    "hash": "260aede9e9e79cbbceaccab57791e2d36a7e921c0e25c9eaac9ba718a2540e72"
   }
  }
 },
 "nbformat": 4,
 "nbformat_minor": 2
}
