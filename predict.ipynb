{
 "cells": [
  {
   "cell_type": "code",
   "execution_count": 1,
   "metadata": {},
   "outputs": [],
   "source": [
    "import pandas as pd\n",
    "import numpy as np\n",
    "import datetime\n",
    "from tqdm.notebook import tqdm\n",
    "from sklearn.metrics import roc_auc_score\n",
    "from sklearn.preprocessing import LabelEncoder\n",
    "import lightgbm as lgb\n",
    "import requests\n",
    "from bs4 import BeautifulSoup\n",
    "import time\n",
    "import re\n",
    "from urllib.request import urlopen\n",
    "from itertools import combinations, permutations\n",
    "import matplotlib.pyplot as plt\n",
    "import pickle"
   ]
  },
  {
   "cell_type": "code",
   "execution_count": 2,
   "metadata": {},
   "outputs": [],
   "source": [
    "pd.set_option('display.max_columns', 50)"
   ]
  },
  {
   "cell_type": "code",
   "execution_count": 3,
   "metadata": {},
   "outputs": [],
   "source": [
    "# 自作モジュールインポート\n",
    "import module.Preprocessing as preprocessing\n",
    "import module.Scraping as scraping\n",
    "import module.Simulation as simulation"
   ]
  },
  {
   "cell_type": "code",
   "execution_count": 4,
   "metadata": {},
   "outputs": [],
   "source": [
    "# ラベルエンコーダーのインポート\n",
    "le_horse = pickle.load(open('labelencoder/le_horse.pickle', 'rb'))\n",
    "le_jockey = pickle.load(open('labelencoder/le_jockey.pickle', 'rb'))"
   ]
  },
  {
   "cell_type": "code",
   "execution_count": 5,
   "metadata": {},
   "outputs": [],
   "source": [
    "# モデルのインポート\n",
    "lgb_clf_danger = pickle.load(open('model/dangerous_pred.pkl', 'rb'))"
   ]
  },
  {
   "cell_type": "code",
   "execution_count": 6,
   "metadata": {},
   "outputs": [],
   "source": [
    "m_race_results = pd.read_pickle(\"data/preprocessing_data/m_race_results.pickle\")\n",
    "p_race_results = pd.read_pickle(\"data/preprocessing_data/p_race_results.pickle\")\n",
    "p_horse_results = pd.read_pickle(\"data/preprocessing_data/p_horse_results.pickle\")"
   ]
  },
  {
   "attachments": {},
   "cell_type": "markdown",
   "metadata": {},
   "source": [
    "## 出馬表のデータをスクレイピングして予想する"
   ]
  },
  {
   "attachments": {},
   "cell_type": "markdown",
   "metadata": {},
   "source": [
    "### 注意事項\n",
    "\n",
    "- 元データにrace_idが存在しない場合は実行できないため、全てのレースを予想出来るわけではない（新馬は無理）\n",
    "- 特徴量の「人気」はbeatifulsoopで取得できなかったので手打ちで入力する\n"
   ]
  },
  {
   "cell_type": "code",
   "execution_count": 7,
   "metadata": {},
   "outputs": [],
   "source": [
    "# ここは手打ちで入力する\n",
    "# https://race.netkeiba.com/race/shutuba.html?race_id=202307011211&rf=race_list\n",
    "\n",
    "shutuba_id = \"202305010411\"\n",
    "date = \"2023/02/05\"\n",
    "\n",
    "# ↑のリンクから人気を順番に手打ち\n",
    "popular =  [14,4,1,3,5,7,13,9,11,12,16,15,10,8,2,6]"
   ]
  },
  {
   "cell_type": "code",
   "execution_count": 8,
   "metadata": {},
   "outputs": [
    {
     "name": "stdout",
     "output_type": "stream",
     "text": [
      "新馬なし\n"
     ]
    }
   ],
   "source": [
    "# 新馬が含まれていないか判定\n",
    "# horse_idが表示された場合は予想出来ないもしくは、除外して予想する\n",
    "horse_id_list = scraping.shutuba_horse_id_scraping(shutuba_id)\n",
    "results = set(horse_id_list) ^ set(p_horse_results[p_horse_results.index.isin(horse_id_list)].index.unique())\n",
    "if results == set():\n",
    "  print(\"新馬なし\")\n",
    "else:\n",
    "  results"
   ]
  },
  {
   "attachments": {},
   "cell_type": "markdown",
   "metadata": {},
   "source": [
    "出馬表のスクレイピングと前処理"
   ]
  },
  {
   "cell_type": "code",
   "execution_count": 9,
   "metadata": {},
   "outputs": [
    {
     "data": {
      "application/vnd.jupyter.widget-view+json": {
       "model_id": "43db7f4605c746f29daa8c5aa96888ae",
       "version_major": 2,
       "version_minor": 0
      },
      "text/plain": [
       "  0%|          | 0/1 [00:00<?, ?it/s]"
      ]
     },
     "metadata": {},
     "output_type": "display_data"
    }
   ],
   "source": [
    "shutuba = scraping.shutuba_scraping([shutuba_id], date)\n",
    "shutuba[\"人気\"] = popular\n",
    "p_shutuba = preprocessing.shutuba_preprocessing(shutuba)\n"
   ]
  },
  {
   "attachments": {},
   "cell_type": "markdown",
   "metadata": {},
   "source": [
    "出馬表に出頭馬の過去レース結果をマージする"
   ]
  },
  {
   "cell_type": "code",
   "execution_count": 10,
   "metadata": {},
   "outputs": [],
   "source": [
    "m_shutuba = preprocessing.merge_race_with_horse(p_shutuba, p_horse_results)"
   ]
  },
  {
   "attachments": {},
   "cell_type": "markdown",
   "metadata": {},
   "source": [
    "カテゴリ変数化"
   ]
  },
  {
   "cell_type": "code",
   "execution_count": 11,
   "metadata": {},
   "outputs": [],
   "source": [
    "d_shutuba = preprocessing.dummy_with_category(le_horse, le_jockey, m_shutuba, m_race_results)"
   ]
  },
  {
   "cell_type": "code",
   "execution_count": 12,
   "metadata": {},
   "outputs": [],
   "source": [
    "# 日付をドロップ\n",
    "d_shutuba = d_shutuba.drop(columns=\"date\", axis=1)"
   ]
  },
  {
   "cell_type": "code",
   "execution_count": 13,
   "metadata": {},
   "outputs": [
    {
     "name": "stdout",
     "output_type": "stream",
     "text": [
      "[LightGBM] [Warning] Unknown parameter: axis\n"
     ]
    }
   ],
   "source": [
    "proba_danger = simulation.predict_proba(lgb_clf_danger, d_shutuba)"
   ]
  },
  {
   "cell_type": "code",
   "execution_count": 14,
   "metadata": {},
   "outputs": [
    {
     "data": {
      "text/html": [
       "<div>\n",
       "<style scoped>\n",
       "    .dataframe tbody tr th:only-of-type {\n",
       "        vertical-align: middle;\n",
       "    }\n",
       "\n",
       "    .dataframe tbody tr th {\n",
       "        vertical-align: top;\n",
       "    }\n",
       "\n",
       "    .dataframe thead th {\n",
       "        text-align: right;\n",
       "    }\n",
       "</style>\n",
       "<table border=\"1\" class=\"dataframe\">\n",
       "  <thead>\n",
       "    <tr style=\"text-align: right;\">\n",
       "      <th></th>\n",
       "      <th>馬番</th>\n",
       "      <th>馬名</th>\n",
       "      <th>人気</th>\n",
       "      <th>score</th>\n",
       "    </tr>\n",
       "  </thead>\n",
       "  <tbody>\n",
       "    <tr>\n",
       "      <th>202305010411</th>\n",
       "      <td>3</td>\n",
       "      <td>ジャスティンカフェ</td>\n",
       "      <td>1</td>\n",
       "      <td>2.964991</td>\n",
       "    </tr>\n",
       "    <tr>\n",
       "      <th>202305010411</th>\n",
       "      <td>15</td>\n",
       "      <td>ナミュール</td>\n",
       "      <td>2</td>\n",
       "      <td>1.029304</td>\n",
       "    </tr>\n",
       "    <tr>\n",
       "      <th>202305010411</th>\n",
       "      <td>4</td>\n",
       "      <td>ピンハイ</td>\n",
       "      <td>3</td>\n",
       "      <td>0.843056</td>\n",
       "    </tr>\n",
       "    <tr>\n",
       "      <th>202305010411</th>\n",
       "      <td>2</td>\n",
       "      <td>ウインカーネリアン</td>\n",
       "      <td>4</td>\n",
       "      <td>0.415178</td>\n",
       "    </tr>\n",
       "    <tr>\n",
       "      <th>202305010411</th>\n",
       "      <td>5</td>\n",
       "      <td>インダストリア</td>\n",
       "      <td>5</td>\n",
       "      <td>0.370246</td>\n",
       "    </tr>\n",
       "    <tr>\n",
       "      <th>202305010411</th>\n",
       "      <td>16</td>\n",
       "      <td>プレサージュリフト</td>\n",
       "      <td>6</td>\n",
       "      <td>0.302373</td>\n",
       "    </tr>\n",
       "    <tr>\n",
       "      <th>202305010411</th>\n",
       "      <td>6</td>\n",
       "      <td>マテンロウオリオン</td>\n",
       "      <td>7</td>\n",
       "      <td>-0.794345</td>\n",
       "    </tr>\n",
       "    <tr>\n",
       "      <th>202305010411</th>\n",
       "      <td>14</td>\n",
       "      <td>エアロロノア</td>\n",
       "      <td>8</td>\n",
       "      <td>0.216809</td>\n",
       "    </tr>\n",
       "    <tr>\n",
       "      <th>202305010411</th>\n",
       "      <td>8</td>\n",
       "      <td>ファルコニア</td>\n",
       "      <td>9</td>\n",
       "      <td>-0.546786</td>\n",
       "    </tr>\n",
       "    <tr>\n",
       "      <th>202305010411</th>\n",
       "      <td>13</td>\n",
       "      <td>サクラトゥジュール</td>\n",
       "      <td>10</td>\n",
       "      <td>-0.360403</td>\n",
       "    </tr>\n",
       "    <tr>\n",
       "      <th>202305010411</th>\n",
       "      <td>9</td>\n",
       "      <td>ショウナンマグマ</td>\n",
       "      <td>11</td>\n",
       "      <td>-0.113068</td>\n",
       "    </tr>\n",
       "    <tr>\n",
       "      <th>202305010411</th>\n",
       "      <td>10</td>\n",
       "      <td>ピースワンパラディ</td>\n",
       "      <td>12</td>\n",
       "      <td>-0.542330</td>\n",
       "    </tr>\n",
       "    <tr>\n",
       "      <th>202305010411</th>\n",
       "      <td>7</td>\n",
       "      <td>タイムトゥヘヴン</td>\n",
       "      <td>13</td>\n",
       "      <td>-0.973359</td>\n",
       "    </tr>\n",
       "    <tr>\n",
       "      <th>202305010411</th>\n",
       "      <td>1</td>\n",
       "      <td>プリンスリターン</td>\n",
       "      <td>14</td>\n",
       "      <td>-0.772488</td>\n",
       "    </tr>\n",
       "    <tr>\n",
       "      <th>202305010411</th>\n",
       "      <td>12</td>\n",
       "      <td>シュリ</td>\n",
       "      <td>15</td>\n",
       "      <td>-1.001127</td>\n",
       "    </tr>\n",
       "    <tr>\n",
       "      <th>202305010411</th>\n",
       "      <td>11</td>\n",
       "      <td>カイザーミノル</td>\n",
       "      <td>16</td>\n",
       "      <td>-1.038052</td>\n",
       "    </tr>\n",
       "  </tbody>\n",
       "</table>\n",
       "</div>"
      ],
      "text/plain": [
       "              馬番         馬名  人気     score\n",
       "202305010411   3  ジャスティンカフェ   1  2.964991\n",
       "202305010411  15      ナミュール   2  1.029304\n",
       "202305010411   4       ピンハイ   3  0.843056\n",
       "202305010411   2  ウインカーネリアン   4  0.415178\n",
       "202305010411   5    インダストリア   5  0.370246\n",
       "202305010411  16  プレサージュリフト   6  0.302373\n",
       "202305010411   6  マテンロウオリオン   7 -0.794345\n",
       "202305010411  14     エアロロノア   8  0.216809\n",
       "202305010411   8     ファルコニア   9 -0.546786\n",
       "202305010411  13  サクラトゥジュール  10 -0.360403\n",
       "202305010411   9   ショウナンマグマ  11 -0.113068\n",
       "202305010411  10  ピースワンパラディ  12 -0.542330\n",
       "202305010411   7   タイムトゥヘヴン  13 -0.973359\n",
       "202305010411   1   プリンスリターン  14 -0.772488\n",
       "202305010411  12        シュリ  15 -1.001127\n",
       "202305010411  11    カイザーミノル  16 -1.038052"
      ]
     },
     "execution_count": 14,
     "metadata": {},
     "output_type": "execute_result"
    }
   ],
   "source": [
    "df_score = shutuba\n",
    "df_score[\"score\"] = proba_danger\n",
    "df_score[[\"馬番\", \"馬名\", \"人気\", \"score\"]].sort_values(\"人気\")"
   ]
  },
  {
   "cell_type": "code",
   "execution_count": null,
   "metadata": {},
   "outputs": [],
   "source": []
  }
 ],
 "metadata": {
  "kernelspec": {
   "display_name": "env",
   "language": "python",
   "name": "python3"
  },
  "language_info": {
   "codemirror_mode": {
    "name": "ipython",
    "version": 3
   },
   "file_extension": ".py",
   "mimetype": "text/x-python",
   "name": "python",
   "nbconvert_exporter": "python",
   "pygments_lexer": "ipython3",
   "version": "3.9.10"
  },
  "orig_nbformat": 4,
  "vscode": {
   "interpreter": {
    "hash": "260aede9e9e79cbbceaccab57791e2d36a7e921c0e25c9eaac9ba718a2540e72"
   }
  }
 },
 "nbformat": 4,
 "nbformat_minor": 2
}
