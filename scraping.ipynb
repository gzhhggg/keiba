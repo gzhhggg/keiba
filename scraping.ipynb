{
 "cells": [
  {
   "attachments": {},
   "cell_type": "markdown",
   "metadata": {},
   "source": [
    "# 概要\n",
    "netkeibaから元データをスクレイピングする"
   ]
  },
  {
   "cell_type": "code",
   "execution_count": 1,
   "metadata": {},
   "outputs": [],
   "source": [
    "import pandas as pd\n",
    "import datetime\n",
    "import module.Scraping as scraping"
   ]
  },
  {
   "attachments": {},
   "cell_type": "markdown",
   "metadata": {},
   "source": [
    "#### レース結果を取得する場合\n",
    "race_idを用意して「race_results」関数で結果を取得"
   ]
  },
  {
   "cell_type": "code",
   "execution_count": 3,
   "metadata": {},
   "outputs": [],
   "source": [
    "race_id_list = [\"202206050701\",\"202209060801\"]\n",
    "df = scraping.race_scraping(race_id_list)"
   ]
  },
  {
   "attachments": {},
   "cell_type": "markdown",
   "metadata": {},
   "source": [
    "#### ホース結果を取得する場合\n",
    "レース結果からhorse_idを取得して「horse_results」関数で結果を取得"
   ]
  },
  {
   "cell_type": "code",
   "execution_count": 4,
   "metadata": {},
   "outputs": [
    {
     "data": {
      "application/vnd.jupyter.widget-view+json": {
       "model_id": "9f0eb69af2164818a58d0d03339a840d",
       "version_major": 2,
       "version_minor": 0
      },
      "text/plain": [
       "  0%|          | 0/1 [00:00<?, ?it/s]"
      ]
     },
     "metadata": {},
     "output_type": "display_data"
    }
   ],
   "source": [
    "horse_id_list = [\"2019103705\"]\n",
    "horse_df = scraping.horse_scraping(horse_id_list)"
   ]
  },
  {
   "attachments": {},
   "cell_type": "markdown",
   "metadata": {},
   "source": [
    "#### 払い戻しを取得する場合\n",
    "race_idを用意して「return_results」関数で結果を取得"
   ]
  },
  {
   "cell_type": "code",
   "execution_count": 5,
   "metadata": {},
   "outputs": [
    {
     "data": {
      "application/vnd.jupyter.widget-view+json": {
       "model_id": "091d7094380c4e7f9df312c2f85c732a",
       "version_major": 2,
       "version_minor": 0
      },
      "text/plain": [
       "  0%|          | 0/2 [00:00<?, ?it/s]"
      ]
     },
     "metadata": {},
     "output_type": "display_data"
    }
   ],
   "source": [
    "df_return = scraping.return_table_scraping(race_id_list)"
   ]
  },
  {
   "attachments": {},
   "cell_type": "markdown",
   "metadata": {},
   "source": [
    "#### データを更新する\n",
    "新しくデータをスクレイピングした場合は、update_dataを使って更新する\n",
    "\n",
    "## 注意事項\n",
    "連結するときにカラム名や型が変わっていると、カラム数が増える！！\n",
    "concat後にカラム数を確認する"
   ]
  },
  {
   "cell_type": "code",
   "execution_count": 6,
   "metadata": {},
   "outputs": [],
   "source": [
    "def update_data(old, new):\n",
    "    \"\"\"\n",
    "    Parameters:\n",
    "    ----------\n",
    "    old : pandas.DataFrame\n",
    "        古いデータ\n",
    "    new : pandas.DataFrame\n",
    "        新しいデータ\n",
    "    \"\"\"\n",
    "    print(\"old_shape {}\".format(old.shape))\n",
    "    print(\"new_shape {}\".format(new.shape))\n",
    "    new.columns = old.columns\n",
    "    filtered_old = old[~old.index.isin(new.index)]\n",
    "    df_m = pd.concat([filtered_old, new])\n",
    "    print(\"merge_shape {}\".format(df_m.shape))\n",
    "    return df_m"
   ]
  }
 ],
 "metadata": {
  "kernelspec": {
   "display_name": "env",
   "language": "python",
   "name": "python3"
  },
  "language_info": {
   "codemirror_mode": {
    "name": "ipython",
    "version": 3
   },
   "file_extension": ".py",
   "mimetype": "text/x-python",
   "name": "python",
   "nbconvert_exporter": "python",
   "pygments_lexer": "ipython3",
   "version": "3.9.10"
  },
  "orig_nbformat": 4,
  "vscode": {
   "interpreter": {
    "hash": "260aede9e9e79cbbceaccab57791e2d36a7e921c0e25c9eaac9ba718a2540e72"
   }
  }
 },
 "nbformat": 4,
 "nbformat_minor": 2
}
